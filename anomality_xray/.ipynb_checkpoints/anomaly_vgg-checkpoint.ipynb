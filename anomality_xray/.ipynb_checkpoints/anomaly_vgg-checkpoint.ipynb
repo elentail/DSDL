{
 "cells": [
  {
   "cell_type": "code",
   "execution_count": 19,
   "metadata": {},
   "outputs": [],
   "source": [
    "import numpy as np # linear algebra\n",
    "import pandas as pd # data processing, CSV file I/O (e.g. pd.read_csv)\n",
    "import os\n",
    "from glob import glob\n",
    "\n",
    "import matplotlib.pyplot as plt\n",
    "from itertools import chain\n",
    "import tensorflow as tf\n",
    "import cv2"
   ]
  },
  {
   "cell_type": "code",
   "execution_count": 20,
   "metadata": {},
   "outputs": [
    {
     "name": "stdout",
     "output_type": "stream",
     "text": [
      "Scans found: 4000 , Total Headers 4000\n"
     ]
    }
   ],
   "source": [
    "all_xray_df = pd.read_csv('./data/training_labels.csv')\n",
    "all_image_paths = {os.path.basename(x): x for x in \n",
    "                   glob(os.path.join( './data/training', '*.png'))}\n",
    "print('Scans found:', len(all_image_paths), ', Total Headers', all_xray_df.shape[0])\n",
    "all_xray_df['path'] = all_xray_df['Image Index'].map(all_image_paths.get)\n",
    "#all_xray_df.sample(3)"
   ]
  },
  {
   "cell_type": "code",
   "execution_count": 21,
   "metadata": {},
   "outputs": [],
   "source": [
    "all_xray_df['Label'] = all_xray_df['Finding Labels'].map(lambda x: 0 if x=='No Finding' else 1.0)\n",
    "#all_xray_df.sample(10)"
   ]
  },
  {
   "cell_type": "code",
   "execution_count": 22,
   "metadata": {},
   "outputs": [
    {
     "data": {
      "text/plain": [
       "(4000, 4)"
      ]
     },
     "execution_count": 22,
     "metadata": {},
     "output_type": "execute_result"
    }
   ],
   "source": [
    "all_xray_df.shape"
   ]
  },
  {
   "cell_type": "code",
   "execution_count": 23,
   "metadata": {},
   "outputs": [],
   "source": [
    "from sklearn.utils  import shuffle\n",
    "\n",
    "\n",
    "\n",
    "normal =  all_xray_df [ all_xray_df['Label'] == 0.0 ]\n",
    "abnormal =  all_xray_df [ all_xray_df['Label'] == 1.0 ]\n",
    "\n",
    "X_train = pd.concat([normal.sample(frac=0.8, random_state=0),\\\n",
    "                     abnormal.sample(frac=0.8,random_state=0)], axis=0)\n",
    "X_valid = all_xray_df.loc[~all_xray_df.index.isin(X_train.index)]\n",
    "\n",
    "X_train = shuffle(X_train)\n",
    "X_valid = shuffle(X_valid)"
   ]
  },
  {
   "cell_type": "markdown",
   "metadata": {},
   "source": [
    "# Data agumentation with train set"
   ]
  },
  {
   "cell_type": "code",
   "execution_count": 24,
   "metadata": {},
   "outputs": [],
   "source": [
    "import os\n",
    "import glob\n",
    "\n",
    "out_path = './data/agument/'\n",
    "\n",
    "abnormal_df =  X_train [ X_train['Label'] == 1.0 ] \n",
    "\n",
    "if not os.path.exists(out_path):\n",
    "  os.mkdir(out_path)\n",
    "\n",
    "  for idx,row in abnormal_df.iterrows():\n",
    "      img = cv2.imread(row['path'],cv2.IMREAD_COLOR)\n",
    "      fimg = cv2.flip(img,1)\n",
    "      cv2.imwrite(out_path+'F'+os.path.basename(row['path']),fimg)\n",
    "\n",
    "column_name = ['Image Index','Finding Labels','path','Label']\n",
    "data_list = []\n",
    "flist = glob.glob(out_path+'*.png')\n",
    "for f in flist:\n",
    "    path_name = f\n",
    "    base_name = os.path.basename(f)\n",
    "    data_list.append([base_name,'Effusion',path_name,1.0])\n",
    "\n",
    "flip_df = pd.DataFrame(columns=column_name,data=data_list)\n",
    "\n",
    "\n",
    "X_train = pd.concat([X_train,flip_df])\n",
    "X_train.reset_index(inplace=True)\n"
   ]
  },
  {
   "cell_type": "code",
   "execution_count": 25,
   "metadata": {},
   "outputs": [
    {
     "data": {
      "text/plain": [
       "Label\n",
       "0.0    2560\n",
       "1.0    1280\n",
       "dtype: int64"
      ]
     },
     "execution_count": 25,
     "metadata": {},
     "output_type": "execute_result"
    }
   ],
   "source": [
    "X_train.groupby('Label').size()"
   ]
  },
  {
   "cell_type": "markdown",
   "metadata": {},
   "source": [
    "# Over sample"
   ]
  },
  {
   "cell_type": "code",
   "execution_count": 26,
   "metadata": {},
   "outputs": [],
   "source": [
    "# Over sample\n",
    "train_over = pd.concat([X_train, X_train[X_train['Label'] == 1].sample(300) ])\n",
    "train_over = shuffle(train_over)"
   ]
  },
  {
   "cell_type": "code",
   "execution_count": 27,
   "metadata": {},
   "outputs": [],
   "source": [
    "#train_x = X_train['path'].values\n",
    "#train_y = X_train['Label'].values\n",
    "\n",
    "train_x = train_over['path'].values\n",
    "train_y = train_over['Label'].values\n",
    "\n",
    "train_image = []\n",
    "for f in train_x:\n",
    "    img = cv2.imread(f,cv2.IMREAD_GRAYSCALE)\n",
    "    m,s = cv2.meanStdDev(img)\n",
    "    std_img = (img- m)/(1.e-6 + s)\n",
    "    \n",
    "    train_image.append(std_img.reshape((64,64,1)))\n",
    "    \n",
    "train_label = np.column_stack([1-train_y,train_y])\n",
    "\n",
    "\n",
    "valid_x = X_valid['path'].values\n",
    "valid_y = X_valid['Label'].values\n",
    "\n",
    "valid_image = []\n",
    "for f in valid_x:\n",
    "    img = cv2.imread(f,cv2.IMREAD_GRAYSCALE)\n",
    "    m,s = cv2.meanStdDev(img)\n",
    "    std_img = (img- m)/(1.e-6 + s)\n",
    "    valid_image.append(std_img.reshape((64,64,1)))\n",
    "    \n",
    "valid_label = np.column_stack([1-valid_y,valid_y])"
   ]
  },
  {
   "cell_type": "code",
   "execution_count": 28,
   "metadata": {},
   "outputs": [
    {
     "data": {
      "text/plain": [
       "(4140, 800)"
      ]
     },
     "execution_count": 28,
     "metadata": {},
     "output_type": "execute_result"
    }
   ],
   "source": [
    "len(train_x),len(valid_x)"
   ]
  },
  {
   "cell_type": "markdown",
   "metadata": {},
   "source": [
    "# CNN Model"
   ]
  },
  {
   "cell_type": "code",
   "execution_count": 29,
   "metadata": {},
   "outputs": [],
   "source": [
    "\n",
    "tf.reset_default_graph()\n",
    "\n",
    "images = tf.placeholder(tf.float32, [None, 64, 64, 1])\n",
    "true_out = tf.placeholder(tf.float32, [ None, 2])\n",
    "kprob = tf.placeholder_with_default(0.9,shape=())\n",
    "train_mode = tf.placeholder_with_default(True,shape=())\n",
    "\n",
    "xavi_init = tf.contrib.layers.xavier_initializer_conv2d()\n",
    "w1 = tf.Variable(xavi_init(shape=[3,3,1,32]),name='conv1_w')\n",
    "conv1 = tf.nn.conv2d(images, w1, strides=[1, 1, 1, 1], padding='SAME')\n",
    "norm1 = tf.layers.batch_normalization(conv1,training=train_mode)\n",
    "relu1 = tf.nn.relu(norm1)\n",
    "relu1 = tf.nn.dropout(relu1,kprob)\n",
    "\n",
    "\n",
    "w2 = tf.Variable(xavi_init(shape=[3,3,32,32]),name='conv2_w')\n",
    "conv2 = tf.nn.conv2d(relu1, w2, strides=[1, 1, 1, 1], padding='SAME')\n",
    "norm2 = tf.layers.batch_normalization(conv2,training=train_mode)\n",
    "relu2 = tf.nn.relu(norm2)\n",
    "relu2 = tf.nn.dropout(relu2,kprob)\n",
    "\n",
    "# 32, 32\n",
    "pool1 = tf.nn.max_pool(relu2,ksize=[1,2,2,1],strides=[1,2,2,1],padding='SAME')\n",
    "\n",
    "\n",
    "w3 = tf.Variable(xavi_init(shape=[3,3,32,64]),name='conv3_w')\n",
    "conv3 = tf.nn.conv2d(pool1, w3, strides=[1, 1, 1, 1], padding='SAME')\n",
    "norm3 = tf.layers.batch_normalization(conv3,training=train_mode)\n",
    "relu3 = tf.nn.relu(norm3)\n",
    "relu3 = tf.nn.dropout(relu3,kprob)\n",
    "\n",
    "\n",
    "w4 = tf.Variable(xavi_init(shape=[3,3,64,64]),name='conv4_w')\n",
    "conv4 = tf.nn.conv2d(relu3, w4, strides=[1, 1, 1, 1], padding='SAME')\n",
    "norm4 = tf.layers.batch_normalization(conv4,training=train_mode)\n",
    "relu4 = tf.nn.relu(norm4)\n",
    "relu4 = tf.nn.dropout(relu4,kprob)\n",
    "\n",
    "\n",
    "w5 = tf.Variable(xavi_init(shape=[3,3,64,64]),name='conv5_w')\n",
    "conv5 = tf.nn.conv2d(relu4, w5, strides=[1, 1, 1, 1], padding='SAME')\n",
    "norm5 = tf.layers.batch_normalization(conv5,training=train_mode)\n",
    "relu5 = tf.nn.relu(norm5)\n",
    "relu5 = tf.nn.dropout(relu5,kprob)\n",
    "\n",
    "\n",
    "\n",
    "# 16, 16 , 64\n",
    "pool2 = tf.nn.max_pool(relu5,ksize=[1,2,2,1],strides=[1,2,2,1],padding='SAME')\n",
    "\n",
    "fc1_reshape = tf.reshape(pool2, [-1, 16384])\n",
    "fc1_w = tf.Variable(xavi_init(shape=[16384,1024]),name='fc1_w')\n",
    "fc1_n = tf.layers.batch_normalization(tf.matmul(fc1_reshape,fc1_w) ,training=train_mode)\n",
    "fc1 = tf.nn.relu(fc1_n)\n",
    "fc1 = tf.nn.dropout(fc1,kprob)\n",
    "\n",
    "\n",
    "\n",
    "fc2_w = tf.Variable(xavi_init(shape=[1024,128]),name='fc2_w')\n",
    "fc1_n = tf.layers.batch_normalization(tf.matmul(fc1,fc2_w) ,training=train_mode)\n",
    "fc2 = tf.nn.relu(fc1_n)\n",
    "fc2 = tf.nn.dropout(fc2,kprob)\n",
    "\n",
    "fc3_w = tf.Variable(xavi_init(shape=[128,2]),name='fc3_w')\n",
    "fc3_b = tf.Variable(tf.zeros(shape=[2]),name='fc3_b')\n",
    "logit = tf.nn.bias_add( tf.matmul(fc2,fc3_w) , fc3_b)\n",
    "\n",
    "\n"
   ]
  },
  {
   "cell_type": "markdown",
   "metadata": {},
   "source": [
    "# cost function , accuracy"
   ]
  },
  {
   "cell_type": "code",
   "execution_count": 30,
   "metadata": {},
   "outputs": [],
   "source": [
    "cross_entropy = tf.nn.softmax_cross_entropy_with_logits_v2(labels=true_out,logits=logit)\n",
    "total_loss = tf.reduce_mean(cross_entropy)\n",
    "\n",
    "update_ops = tf.get_collection(tf.GraphKeys.UPDATE_OPS)\n",
    "\n",
    "with tf.control_dependencies(update_ops):\n",
    "    train_op = tf.train.AdamOptimizer(0.001).minimize(total_loss)\n",
    "\n",
    "#train_op = tf.train.AdamOptimizer(0.001).minimize(total_loss)\n",
    "\n",
    "correct_prediction = tf.equal(tf.argmax(logit, 1),tf.argmax(true_out, 1))\n",
    "accuracy = tf.reduce_mean(tf.cast(correct_prediction, tf.float32))\n",
    "    \n",
    "    "
   ]
  },
  {
   "cell_type": "markdown",
   "metadata": {},
   "source": [
    "# Saver"
   ]
  },
  {
   "cell_type": "code",
   "execution_count": 31,
   "metadata": {},
   "outputs": [],
   "source": [
    "saver = tf.train.Saver()\n",
    "\n",
    "CHECKPOINT_PATH = './ckpt/vgg_xray.ckpt'\n",
    "CHECKPOINT_FILE = '%s.meta' % CHECKPOINT_PATH"
   ]
  },
  {
   "cell_type": "code",
   "execution_count": 33,
   "metadata": {
    "scrolled": true
   },
   "outputs": [
    {
     "ename": "ResourceExhaustedError",
     "evalue": "OOM when allocating tensor with shape[100,64,32,32] and type float on /job:localhost/replica:0/task:0/device:GPU:0 by allocator GPU_0_bfc\n\t [[Node: Conv2D_3 = Conv2D[T=DT_FLOAT, _class=[\"loc:@batch_normalization_3/cond/FusedBatchNorm_1/Switch\"], data_format=\"NCHW\", dilations=[1, 1, 1, 1], padding=\"SAME\", strides=[1, 1, 1, 1], use_cudnn_on_gpu=true, _device=\"/job:localhost/replica:0/task:0/device:GPU:0\"](dropout_2/mul, conv4_w/read)]]\nHint: If you want to see a list of allocated tensors when OOM happens, add report_tensor_allocations_upon_oom to RunOptions for current allocation info.\n\n\t [[Node: gradients/dropout/mul_grad/Shape/_83 = _Recv[client_terminated=false, recv_device=\"/job:localhost/replica:0/task:0/device:CPU:0\", send_device=\"/job:localhost/replica:0/task:0/device:GPU:0\", send_device_incarnation=1, tensor_name=\"edge_1683_gradients/dropout/mul_grad/Shape\", tensor_type=DT_INT32, _device=\"/job:localhost/replica:0/task:0/device:CPU:0\"]()]]\nHint: If you want to see a list of allocated tensors when OOM happens, add report_tensor_allocations_upon_oom to RunOptions for current allocation info.\n\n\nCaused by op 'Conv2D_3', defined at:\n  File \"/opt/anaconda3/envs/tensorgpu/lib/python3.6/runpy.py\", line 193, in _run_module_as_main\n    \"__main__\", mod_spec)\n  File \"/opt/anaconda3/envs/tensorgpu/lib/python3.6/runpy.py\", line 85, in _run_code\n    exec(code, run_globals)\n  File \"/opt/anaconda3/envs/tensorgpu/lib/python3.6/site-packages/ipykernel_launcher.py\", line 16, in <module>\n    app.launch_new_instance()\n  File \"/opt/anaconda3/envs/tensorgpu/lib/python3.6/site-packages/traitlets/config/application.py\", line 658, in launch_instance\n    app.start()\n  File \"/opt/anaconda3/envs/tensorgpu/lib/python3.6/site-packages/ipykernel/kernelapp.py\", line 486, in start\n    self.io_loop.start()\n  File \"/opt/anaconda3/envs/tensorgpu/lib/python3.6/site-packages/tornado/platform/asyncio.py\", line 127, in start\n    self.asyncio_loop.run_forever()\n  File \"/opt/anaconda3/envs/tensorgpu/lib/python3.6/asyncio/base_events.py\", line 422, in run_forever\n    self._run_once()\n  File \"/opt/anaconda3/envs/tensorgpu/lib/python3.6/asyncio/base_events.py\", line 1432, in _run_once\n    handle._run()\n  File \"/opt/anaconda3/envs/tensorgpu/lib/python3.6/asyncio/events.py\", line 145, in _run\n    self._callback(*self._args)\n  File \"/opt/anaconda3/envs/tensorgpu/lib/python3.6/site-packages/tornado/platform/asyncio.py\", line 117, in _handle_events\n    handler_func(fileobj, events)\n  File \"/opt/anaconda3/envs/tensorgpu/lib/python3.6/site-packages/tornado/stack_context.py\", line 276, in null_wrapper\n    return fn(*args, **kwargs)\n  File \"/opt/anaconda3/envs/tensorgpu/lib/python3.6/site-packages/zmq/eventloop/zmqstream.py\", line 450, in _handle_events\n    self._handle_recv()\n  File \"/opt/anaconda3/envs/tensorgpu/lib/python3.6/site-packages/zmq/eventloop/zmqstream.py\", line 480, in _handle_recv\n    self._run_callback(callback, msg)\n  File \"/opt/anaconda3/envs/tensorgpu/lib/python3.6/site-packages/zmq/eventloop/zmqstream.py\", line 432, in _run_callback\n    callback(*args, **kwargs)\n  File \"/opt/anaconda3/envs/tensorgpu/lib/python3.6/site-packages/tornado/stack_context.py\", line 276, in null_wrapper\n    return fn(*args, **kwargs)\n  File \"/opt/anaconda3/envs/tensorgpu/lib/python3.6/site-packages/ipykernel/kernelbase.py\", line 283, in dispatcher\n    return self.dispatch_shell(stream, msg)\n  File \"/opt/anaconda3/envs/tensorgpu/lib/python3.6/site-packages/ipykernel/kernelbase.py\", line 233, in dispatch_shell\n    handler(stream, idents, msg)\n  File \"/opt/anaconda3/envs/tensorgpu/lib/python3.6/site-packages/ipykernel/kernelbase.py\", line 399, in execute_request\n    user_expressions, allow_stdin)\n  File \"/opt/anaconda3/envs/tensorgpu/lib/python3.6/site-packages/ipykernel/ipkernel.py\", line 208, in do_execute\n    res = shell.run_cell(code, store_history=store_history, silent=silent)\n  File \"/opt/anaconda3/envs/tensorgpu/lib/python3.6/site-packages/ipykernel/zmqshell.py\", line 537, in run_cell\n    return super(ZMQInteractiveShell, self).run_cell(*args, **kwargs)\n  File \"/opt/anaconda3/envs/tensorgpu/lib/python3.6/site-packages/IPython/core/interactiveshell.py\", line 2662, in run_cell\n    raw_cell, store_history, silent, shell_futures)\n  File \"/opt/anaconda3/envs/tensorgpu/lib/python3.6/site-packages/IPython/core/interactiveshell.py\", line 2785, in _run_cell\n    interactivity=interactivity, compiler=compiler, result=result)\n  File \"/opt/anaconda3/envs/tensorgpu/lib/python3.6/site-packages/IPython/core/interactiveshell.py\", line 2903, in run_ast_nodes\n    if self.run_code(code, result):\n  File \"/opt/anaconda3/envs/tensorgpu/lib/python3.6/site-packages/IPython/core/interactiveshell.py\", line 2963, in run_code\n    exec(code_obj, self.user_global_ns, self.user_ns)\n  File \"<ipython-input-29-16cd0b588346>\", line 35, in <module>\n    conv4 = tf.nn.conv2d(relu3, w4, strides=[1, 1, 1, 1], padding='SAME')\n  File \"/opt/anaconda3/envs/tensorgpu/lib/python3.6/site-packages/tensorflow/python/ops/gen_nn_ops.py\", line 956, in conv2d\n    data_format=data_format, dilations=dilations, name=name)\n  File \"/opt/anaconda3/envs/tensorgpu/lib/python3.6/site-packages/tensorflow/python/framework/op_def_library.py\", line 787, in _apply_op_helper\n    op_def=op_def)\n  File \"/opt/anaconda3/envs/tensorgpu/lib/python3.6/site-packages/tensorflow/python/framework/ops.py\", line 3392, in create_op\n    op_def=op_def)\n  File \"/opt/anaconda3/envs/tensorgpu/lib/python3.6/site-packages/tensorflow/python/framework/ops.py\", line 1718, in __init__\n    self._traceback = self._graph._extract_stack()  # pylint: disable=protected-access\n\nResourceExhaustedError (see above for traceback): OOM when allocating tensor with shape[100,64,32,32] and type float on /job:localhost/replica:0/task:0/device:GPU:0 by allocator GPU_0_bfc\n\t [[Node: Conv2D_3 = Conv2D[T=DT_FLOAT, _class=[\"loc:@batch_normalization_3/cond/FusedBatchNorm_1/Switch\"], data_format=\"NCHW\", dilations=[1, 1, 1, 1], padding=\"SAME\", strides=[1, 1, 1, 1], use_cudnn_on_gpu=true, _device=\"/job:localhost/replica:0/task:0/device:GPU:0\"](dropout_2/mul, conv4_w/read)]]\nHint: If you want to see a list of allocated tensors when OOM happens, add report_tensor_allocations_upon_oom to RunOptions for current allocation info.\n\n\t [[Node: gradients/dropout/mul_grad/Shape/_83 = _Recv[client_terminated=false, recv_device=\"/job:localhost/replica:0/task:0/device:CPU:0\", send_device=\"/job:localhost/replica:0/task:0/device:GPU:0\", send_device_incarnation=1, tensor_name=\"edge_1683_gradients/dropout/mul_grad/Shape\", tensor_type=DT_INT32, _device=\"/job:localhost/replica:0/task:0/device:CPU:0\"]()]]\nHint: If you want to see a list of allocated tensors when OOM happens, add report_tensor_allocations_upon_oom to RunOptions for current allocation info.\n\n",
     "output_type": "error",
     "traceback": [
      "\u001b[0;31m---------------------------------------------------------------------------\u001b[0m",
      "\u001b[0;31mResourceExhaustedError\u001b[0m                    Traceback (most recent call last)",
      "\u001b[0;32m/opt/anaconda3/envs/tensorgpu/lib/python3.6/site-packages/tensorflow/python/client/session.py\u001b[0m in \u001b[0;36m_do_call\u001b[0;34m(self, fn, *args)\u001b[0m\n\u001b[1;32m   1321\u001b[0m     \u001b[0;32mtry\u001b[0m\u001b[0;34m:\u001b[0m\u001b[0;34m\u001b[0m\u001b[0m\n\u001b[0;32m-> 1322\u001b[0;31m       \u001b[0;32mreturn\u001b[0m \u001b[0mfn\u001b[0m\u001b[0;34m(\u001b[0m\u001b[0;34m*\u001b[0m\u001b[0margs\u001b[0m\u001b[0;34m)\u001b[0m\u001b[0;34m\u001b[0m\u001b[0m\n\u001b[0m\u001b[1;32m   1323\u001b[0m     \u001b[0;32mexcept\u001b[0m \u001b[0merrors\u001b[0m\u001b[0;34m.\u001b[0m\u001b[0mOpError\u001b[0m \u001b[0;32mas\u001b[0m \u001b[0me\u001b[0m\u001b[0;34m:\u001b[0m\u001b[0;34m\u001b[0m\u001b[0m\n",
      "\u001b[0;32m/opt/anaconda3/envs/tensorgpu/lib/python3.6/site-packages/tensorflow/python/client/session.py\u001b[0m in \u001b[0;36m_run_fn\u001b[0;34m(feed_dict, fetch_list, target_list, options, run_metadata)\u001b[0m\n\u001b[1;32m   1306\u001b[0m       return self._call_tf_sessionrun(\n\u001b[0;32m-> 1307\u001b[0;31m           options, feed_dict, fetch_list, target_list, run_metadata)\n\u001b[0m\u001b[1;32m   1308\u001b[0m \u001b[0;34m\u001b[0m\u001b[0m\n",
      "\u001b[0;32m/opt/anaconda3/envs/tensorgpu/lib/python3.6/site-packages/tensorflow/python/client/session.py\u001b[0m in \u001b[0;36m_call_tf_sessionrun\u001b[0;34m(self, options, feed_dict, fetch_list, target_list, run_metadata)\u001b[0m\n\u001b[1;32m   1408\u001b[0m           \u001b[0mself\u001b[0m\u001b[0;34m.\u001b[0m\u001b[0m_session\u001b[0m\u001b[0;34m,\u001b[0m \u001b[0moptions\u001b[0m\u001b[0;34m,\u001b[0m \u001b[0mfeed_dict\u001b[0m\u001b[0;34m,\u001b[0m \u001b[0mfetch_list\u001b[0m\u001b[0;34m,\u001b[0m \u001b[0mtarget_list\u001b[0m\u001b[0;34m,\u001b[0m\u001b[0;34m\u001b[0m\u001b[0m\n\u001b[0;32m-> 1409\u001b[0;31m           run_metadata)\n\u001b[0m\u001b[1;32m   1410\u001b[0m     \u001b[0;32melse\u001b[0m\u001b[0;34m:\u001b[0m\u001b[0;34m\u001b[0m\u001b[0m\n",
      "\u001b[0;31mResourceExhaustedError\u001b[0m: OOM when allocating tensor with shape[100,64,32,32] and type float on /job:localhost/replica:0/task:0/device:GPU:0 by allocator GPU_0_bfc\n\t [[Node: Conv2D_3 = Conv2D[T=DT_FLOAT, _class=[\"loc:@batch_normalization_3/cond/FusedBatchNorm_1/Switch\"], data_format=\"NCHW\", dilations=[1, 1, 1, 1], padding=\"SAME\", strides=[1, 1, 1, 1], use_cudnn_on_gpu=true, _device=\"/job:localhost/replica:0/task:0/device:GPU:0\"](dropout_2/mul, conv4_w/read)]]\nHint: If you want to see a list of allocated tensors when OOM happens, add report_tensor_allocations_upon_oom to RunOptions for current allocation info.\n\n\t [[Node: gradients/dropout/mul_grad/Shape/_83 = _Recv[client_terminated=false, recv_device=\"/job:localhost/replica:0/task:0/device:CPU:0\", send_device=\"/job:localhost/replica:0/task:0/device:GPU:0\", send_device_incarnation=1, tensor_name=\"edge_1683_gradients/dropout/mul_grad/Shape\", tensor_type=DT_INT32, _device=\"/job:localhost/replica:0/task:0/device:CPU:0\"]()]]\nHint: If you want to see a list of allocated tensors when OOM happens, add report_tensor_allocations_upon_oom to RunOptions for current allocation info.\n",
      "\nDuring handling of the above exception, another exception occurred:\n",
      "\u001b[0;31mResourceExhaustedError\u001b[0m                    Traceback (most recent call last)",
      "\u001b[0;32m<ipython-input-33-ec4d47a8652e>\u001b[0m in \u001b[0;36m<module>\u001b[0;34m()\u001b[0m\n\u001b[1;32m     19\u001b[0m             \u001b[0mlabel_iter\u001b[0m \u001b[0;34m=\u001b[0m \u001b[0mtrain_label\u001b[0m\u001b[0;34m[\u001b[0m\u001b[0mstart\u001b[0m\u001b[0;34m:\u001b[0m\u001b[0mend\u001b[0m\u001b[0;34m]\u001b[0m\u001b[0;34m\u001b[0m\u001b[0m\n\u001b[1;32m     20\u001b[0m \u001b[0;34m\u001b[0m\u001b[0m\n\u001b[0;32m---> 21\u001b[0;31m             \u001b[0msess\u001b[0m\u001b[0;34m.\u001b[0m\u001b[0mrun\u001b[0m\u001b[0;34m(\u001b[0m\u001b[0mtrain_op\u001b[0m\u001b[0;34m,\u001b[0m \u001b[0mfeed_dict\u001b[0m\u001b[0;34m=\u001b[0m\u001b[0;34m{\u001b[0m\u001b[0mimages\u001b[0m\u001b[0;34m:\u001b[0m \u001b[0mimage_iter\u001b[0m\u001b[0;34m,\u001b[0m \u001b[0mtrue_out\u001b[0m\u001b[0;34m:\u001b[0m\u001b[0mlabel_iter\u001b[0m\u001b[0;34m}\u001b[0m\u001b[0;34m)\u001b[0m\u001b[0;34m\u001b[0m\u001b[0m\n\u001b[0m\u001b[1;32m     22\u001b[0m \u001b[0;34m\u001b[0m\u001b[0m\n\u001b[1;32m     23\u001b[0m             \u001b[0;32mif\u001b[0m \u001b[0mend\u001b[0m \u001b[0;34m==\u001b[0m \u001b[0mlen\u001b[0m\u001b[0;34m(\u001b[0m\u001b[0mtrain_image\u001b[0m\u001b[0;34m)\u001b[0m \u001b[0;34m:\u001b[0m\u001b[0;34m\u001b[0m\u001b[0m\n",
      "\u001b[0;32m/opt/anaconda3/envs/tensorgpu/lib/python3.6/site-packages/tensorflow/python/client/session.py\u001b[0m in \u001b[0;36mrun\u001b[0;34m(self, fetches, feed_dict, options, run_metadata)\u001b[0m\n\u001b[1;32m    898\u001b[0m     \u001b[0;32mtry\u001b[0m\u001b[0;34m:\u001b[0m\u001b[0;34m\u001b[0m\u001b[0m\n\u001b[1;32m    899\u001b[0m       result = self._run(None, fetches, feed_dict, options_ptr,\n\u001b[0;32m--> 900\u001b[0;31m                          run_metadata_ptr)\n\u001b[0m\u001b[1;32m    901\u001b[0m       \u001b[0;32mif\u001b[0m \u001b[0mrun_metadata\u001b[0m\u001b[0;34m:\u001b[0m\u001b[0;34m\u001b[0m\u001b[0m\n\u001b[1;32m    902\u001b[0m         \u001b[0mproto_data\u001b[0m \u001b[0;34m=\u001b[0m \u001b[0mtf_session\u001b[0m\u001b[0;34m.\u001b[0m\u001b[0mTF_GetBuffer\u001b[0m\u001b[0;34m(\u001b[0m\u001b[0mrun_metadata_ptr\u001b[0m\u001b[0;34m)\u001b[0m\u001b[0;34m\u001b[0m\u001b[0m\n",
      "\u001b[0;32m/opt/anaconda3/envs/tensorgpu/lib/python3.6/site-packages/tensorflow/python/client/session.py\u001b[0m in \u001b[0;36m_run\u001b[0;34m(self, handle, fetches, feed_dict, options, run_metadata)\u001b[0m\n\u001b[1;32m   1133\u001b[0m     \u001b[0;32mif\u001b[0m \u001b[0mfinal_fetches\u001b[0m \u001b[0;32mor\u001b[0m \u001b[0mfinal_targets\u001b[0m \u001b[0;32mor\u001b[0m \u001b[0;34m(\u001b[0m\u001b[0mhandle\u001b[0m \u001b[0;32mand\u001b[0m \u001b[0mfeed_dict_tensor\u001b[0m\u001b[0;34m)\u001b[0m\u001b[0;34m:\u001b[0m\u001b[0;34m\u001b[0m\u001b[0m\n\u001b[1;32m   1134\u001b[0m       results = self._do_run(handle, final_targets, final_fetches,\n\u001b[0;32m-> 1135\u001b[0;31m                              feed_dict_tensor, options, run_metadata)\n\u001b[0m\u001b[1;32m   1136\u001b[0m     \u001b[0;32melse\u001b[0m\u001b[0;34m:\u001b[0m\u001b[0;34m\u001b[0m\u001b[0m\n\u001b[1;32m   1137\u001b[0m       \u001b[0mresults\u001b[0m \u001b[0;34m=\u001b[0m \u001b[0;34m[\u001b[0m\u001b[0;34m]\u001b[0m\u001b[0;34m\u001b[0m\u001b[0m\n",
      "\u001b[0;32m/opt/anaconda3/envs/tensorgpu/lib/python3.6/site-packages/tensorflow/python/client/session.py\u001b[0m in \u001b[0;36m_do_run\u001b[0;34m(self, handle, target_list, fetch_list, feed_dict, options, run_metadata)\u001b[0m\n\u001b[1;32m   1314\u001b[0m     \u001b[0;32mif\u001b[0m \u001b[0mhandle\u001b[0m \u001b[0;32mis\u001b[0m \u001b[0;32mNone\u001b[0m\u001b[0;34m:\u001b[0m\u001b[0;34m\u001b[0m\u001b[0m\n\u001b[1;32m   1315\u001b[0m       return self._do_call(_run_fn, feeds, fetches, targets, options,\n\u001b[0;32m-> 1316\u001b[0;31m                            run_metadata)\n\u001b[0m\u001b[1;32m   1317\u001b[0m     \u001b[0;32melse\u001b[0m\u001b[0;34m:\u001b[0m\u001b[0;34m\u001b[0m\u001b[0m\n\u001b[1;32m   1318\u001b[0m       \u001b[0;32mreturn\u001b[0m \u001b[0mself\u001b[0m\u001b[0;34m.\u001b[0m\u001b[0m_do_call\u001b[0m\u001b[0;34m(\u001b[0m\u001b[0m_prun_fn\u001b[0m\u001b[0;34m,\u001b[0m \u001b[0mhandle\u001b[0m\u001b[0;34m,\u001b[0m \u001b[0mfeeds\u001b[0m\u001b[0;34m,\u001b[0m \u001b[0mfetches\u001b[0m\u001b[0;34m)\u001b[0m\u001b[0;34m\u001b[0m\u001b[0m\n",
      "\u001b[0;32m/opt/anaconda3/envs/tensorgpu/lib/python3.6/site-packages/tensorflow/python/client/session.py\u001b[0m in \u001b[0;36m_do_call\u001b[0;34m(self, fn, *args)\u001b[0m\n\u001b[1;32m   1333\u001b[0m         \u001b[0;32mexcept\u001b[0m \u001b[0mKeyError\u001b[0m\u001b[0;34m:\u001b[0m\u001b[0;34m\u001b[0m\u001b[0m\n\u001b[1;32m   1334\u001b[0m           \u001b[0;32mpass\u001b[0m\u001b[0;34m\u001b[0m\u001b[0m\n\u001b[0;32m-> 1335\u001b[0;31m       \u001b[0;32mraise\u001b[0m \u001b[0mtype\u001b[0m\u001b[0;34m(\u001b[0m\u001b[0me\u001b[0m\u001b[0;34m)\u001b[0m\u001b[0;34m(\u001b[0m\u001b[0mnode_def\u001b[0m\u001b[0;34m,\u001b[0m \u001b[0mop\u001b[0m\u001b[0;34m,\u001b[0m \u001b[0mmessage\u001b[0m\u001b[0;34m)\u001b[0m\u001b[0;34m\u001b[0m\u001b[0m\n\u001b[0m\u001b[1;32m   1336\u001b[0m \u001b[0;34m\u001b[0m\u001b[0m\n\u001b[1;32m   1337\u001b[0m   \u001b[0;32mdef\u001b[0m \u001b[0m_extend_graph\u001b[0m\u001b[0;34m(\u001b[0m\u001b[0mself\u001b[0m\u001b[0;34m)\u001b[0m\u001b[0;34m:\u001b[0m\u001b[0;34m\u001b[0m\u001b[0m\n",
      "\u001b[0;31mResourceExhaustedError\u001b[0m: OOM when allocating tensor with shape[100,64,32,32] and type float on /job:localhost/replica:0/task:0/device:GPU:0 by allocator GPU_0_bfc\n\t [[Node: Conv2D_3 = Conv2D[T=DT_FLOAT, _class=[\"loc:@batch_normalization_3/cond/FusedBatchNorm_1/Switch\"], data_format=\"NCHW\", dilations=[1, 1, 1, 1], padding=\"SAME\", strides=[1, 1, 1, 1], use_cudnn_on_gpu=true, _device=\"/job:localhost/replica:0/task:0/device:GPU:0\"](dropout_2/mul, conv4_w/read)]]\nHint: If you want to see a list of allocated tensors when OOM happens, add report_tensor_allocations_upon_oom to RunOptions for current allocation info.\n\n\t [[Node: gradients/dropout/mul_grad/Shape/_83 = _Recv[client_terminated=false, recv_device=\"/job:localhost/replica:0/task:0/device:CPU:0\", send_device=\"/job:localhost/replica:0/task:0/device:GPU:0\", send_device_incarnation=1, tensor_name=\"edge_1683_gradients/dropout/mul_grad/Shape\", tensor_type=DT_INT32, _device=\"/job:localhost/replica:0/task:0/device:CPU:0\"]()]]\nHint: If you want to see a list of allocated tensors when OOM happens, add report_tensor_allocations_upon_oom to RunOptions for current allocation info.\n\n\nCaused by op 'Conv2D_3', defined at:\n  File \"/opt/anaconda3/envs/tensorgpu/lib/python3.6/runpy.py\", line 193, in _run_module_as_main\n    \"__main__\", mod_spec)\n  File \"/opt/anaconda3/envs/tensorgpu/lib/python3.6/runpy.py\", line 85, in _run_code\n    exec(code, run_globals)\n  File \"/opt/anaconda3/envs/tensorgpu/lib/python3.6/site-packages/ipykernel_launcher.py\", line 16, in <module>\n    app.launch_new_instance()\n  File \"/opt/anaconda3/envs/tensorgpu/lib/python3.6/site-packages/traitlets/config/application.py\", line 658, in launch_instance\n    app.start()\n  File \"/opt/anaconda3/envs/tensorgpu/lib/python3.6/site-packages/ipykernel/kernelapp.py\", line 486, in start\n    self.io_loop.start()\n  File \"/opt/anaconda3/envs/tensorgpu/lib/python3.6/site-packages/tornado/platform/asyncio.py\", line 127, in start\n    self.asyncio_loop.run_forever()\n  File \"/opt/anaconda3/envs/tensorgpu/lib/python3.6/asyncio/base_events.py\", line 422, in run_forever\n    self._run_once()\n  File \"/opt/anaconda3/envs/tensorgpu/lib/python3.6/asyncio/base_events.py\", line 1432, in _run_once\n    handle._run()\n  File \"/opt/anaconda3/envs/tensorgpu/lib/python3.6/asyncio/events.py\", line 145, in _run\n    self._callback(*self._args)\n  File \"/opt/anaconda3/envs/tensorgpu/lib/python3.6/site-packages/tornado/platform/asyncio.py\", line 117, in _handle_events\n    handler_func(fileobj, events)\n  File \"/opt/anaconda3/envs/tensorgpu/lib/python3.6/site-packages/tornado/stack_context.py\", line 276, in null_wrapper\n    return fn(*args, **kwargs)\n  File \"/opt/anaconda3/envs/tensorgpu/lib/python3.6/site-packages/zmq/eventloop/zmqstream.py\", line 450, in _handle_events\n    self._handle_recv()\n  File \"/opt/anaconda3/envs/tensorgpu/lib/python3.6/site-packages/zmq/eventloop/zmqstream.py\", line 480, in _handle_recv\n    self._run_callback(callback, msg)\n  File \"/opt/anaconda3/envs/tensorgpu/lib/python3.6/site-packages/zmq/eventloop/zmqstream.py\", line 432, in _run_callback\n    callback(*args, **kwargs)\n  File \"/opt/anaconda3/envs/tensorgpu/lib/python3.6/site-packages/tornado/stack_context.py\", line 276, in null_wrapper\n    return fn(*args, **kwargs)\n  File \"/opt/anaconda3/envs/tensorgpu/lib/python3.6/site-packages/ipykernel/kernelbase.py\", line 283, in dispatcher\n    return self.dispatch_shell(stream, msg)\n  File \"/opt/anaconda3/envs/tensorgpu/lib/python3.6/site-packages/ipykernel/kernelbase.py\", line 233, in dispatch_shell\n    handler(stream, idents, msg)\n  File \"/opt/anaconda3/envs/tensorgpu/lib/python3.6/site-packages/ipykernel/kernelbase.py\", line 399, in execute_request\n    user_expressions, allow_stdin)\n  File \"/opt/anaconda3/envs/tensorgpu/lib/python3.6/site-packages/ipykernel/ipkernel.py\", line 208, in do_execute\n    res = shell.run_cell(code, store_history=store_history, silent=silent)\n  File \"/opt/anaconda3/envs/tensorgpu/lib/python3.6/site-packages/ipykernel/zmqshell.py\", line 537, in run_cell\n    return super(ZMQInteractiveShell, self).run_cell(*args, **kwargs)\n  File \"/opt/anaconda3/envs/tensorgpu/lib/python3.6/site-packages/IPython/core/interactiveshell.py\", line 2662, in run_cell\n    raw_cell, store_history, silent, shell_futures)\n  File \"/opt/anaconda3/envs/tensorgpu/lib/python3.6/site-packages/IPython/core/interactiveshell.py\", line 2785, in _run_cell\n    interactivity=interactivity, compiler=compiler, result=result)\n  File \"/opt/anaconda3/envs/tensorgpu/lib/python3.6/site-packages/IPython/core/interactiveshell.py\", line 2903, in run_ast_nodes\n    if self.run_code(code, result):\n  File \"/opt/anaconda3/envs/tensorgpu/lib/python3.6/site-packages/IPython/core/interactiveshell.py\", line 2963, in run_code\n    exec(code_obj, self.user_global_ns, self.user_ns)\n  File \"<ipython-input-29-16cd0b588346>\", line 35, in <module>\n    conv4 = tf.nn.conv2d(relu3, w4, strides=[1, 1, 1, 1], padding='SAME')\n  File \"/opt/anaconda3/envs/tensorgpu/lib/python3.6/site-packages/tensorflow/python/ops/gen_nn_ops.py\", line 956, in conv2d\n    data_format=data_format, dilations=dilations, name=name)\n  File \"/opt/anaconda3/envs/tensorgpu/lib/python3.6/site-packages/tensorflow/python/framework/op_def_library.py\", line 787, in _apply_op_helper\n    op_def=op_def)\n  File \"/opt/anaconda3/envs/tensorgpu/lib/python3.6/site-packages/tensorflow/python/framework/ops.py\", line 3392, in create_op\n    op_def=op_def)\n  File \"/opt/anaconda3/envs/tensorgpu/lib/python3.6/site-packages/tensorflow/python/framework/ops.py\", line 1718, in __init__\n    self._traceback = self._graph._extract_stack()  # pylint: disable=protected-access\n\nResourceExhaustedError (see above for traceback): OOM when allocating tensor with shape[100,64,32,32] and type float on /job:localhost/replica:0/task:0/device:GPU:0 by allocator GPU_0_bfc\n\t [[Node: Conv2D_3 = Conv2D[T=DT_FLOAT, _class=[\"loc:@batch_normalization_3/cond/FusedBatchNorm_1/Switch\"], data_format=\"NCHW\", dilations=[1, 1, 1, 1], padding=\"SAME\", strides=[1, 1, 1, 1], use_cudnn_on_gpu=true, _device=\"/job:localhost/replica:0/task:0/device:GPU:0\"](dropout_2/mul, conv4_w/read)]]\nHint: If you want to see a list of allocated tensors when OOM happens, add report_tensor_allocations_upon_oom to RunOptions for current allocation info.\n\n\t [[Node: gradients/dropout/mul_grad/Shape/_83 = _Recv[client_terminated=false, recv_device=\"/job:localhost/replica:0/task:0/device:CPU:0\", send_device=\"/job:localhost/replica:0/task:0/device:GPU:0\", send_device_incarnation=1, tensor_name=\"edge_1683_gradients/dropout/mul_grad/Shape\", tensor_type=DT_INT32, _device=\"/job:localhost/replica:0/task:0/device:CPU:0\"]()]]\nHint: If you want to see a list of allocated tensors when OOM happens, add report_tensor_allocations_upon_oom to RunOptions for current allocation info.\n\n"
     ]
    }
   ],
   "source": [
    "#batch_size = 500\n",
    "batch_size = 100\n",
    "init_op = tf.global_variables_initializer()\n",
    "\n",
    "with tf.Session() as sess:\n",
    "    \n",
    "    if os.path.isfile(CHECKPOINT_FILE):\n",
    "        saver.restore(sess, CHECKPOINT_PATH)\n",
    "        print('Restoring values from %s...' % CHECKPOINT_PATH)\n",
    "    else:\n",
    "        sess.run(init_op)\n",
    "\n",
    "    for epoch in range(350):\n",
    "\n",
    "        for start in range(0,len(train_image),batch_size):\n",
    "\n",
    "            end = min( start+batch_size ,len(train_image))\n",
    "            image_iter = train_image[start:end]\n",
    "            label_iter = train_label[start:end]\n",
    "\n",
    "            sess.run(train_op, feed_dict={images: image_iter, true_out:label_iter})\n",
    "\n",
    "            if end == len(train_image) :\n",
    "                loss,accr,train_logit = sess.run([total_loss,accuracy,logit], feed_dict={images: image_iter,kprob:0.8,true_out:label_iter})\n",
    "                print(epoch,loss,accr)\n",
    "\n",
    "                \n",
    "        \n",
    "        tp= fn= fp= tn= vloss = 0.0\n",
    "        \n",
    "        for start in range(0,len(valid_image),batch_size):\n",
    "\n",
    "            end = min( start+batch_size ,len(valid_image))\n",
    "\n",
    "            image_iter = valid_image[start:end]\n",
    "            label_iter = valid_label[start:end]\n",
    "            \n",
    "            val_loss,val_logit = sess.run([total_loss,logit], feed_dict={images: image_iter, true_out:label_iter,kprob:1.0,train_mode:False})\n",
    "            \n",
    "            \n",
    "            \n",
    "            y_true = np.argmax(label_iter,axis=1)\n",
    "            y_pred = np.argmax(val_logit,axis=1) \n",
    "\n",
    "            true_index =np.where(y_true == 1)\n",
    "            flase_index = np.where(y_true == 0)\n",
    "\n",
    "\n",
    "            tp += np.sum(y_pred[true_index])\n",
    "            fn += np.sum(y_pred[true_index] == 0)\n",
    "            fp += np.sum(y_pred[flase_index])\n",
    "            tn += np.sum(y_pred[flase_index] == 0)\n",
    "            \n",
    "            vloss += loss\n",
    "\n",
    "        recall = tp/(tp+fn+1e-7)\n",
    "        precision = tp/(tp+fp+1e-7)\n",
    "        f1score = 2*(recall*precision)/(recall+precision+1e-7)\n",
    "\n",
    "\n",
    "        print('VALID ----- EPOCH : {:.3f}, LOSS : {:.3f}, ACCR : --'.format(epoch,vloss))\n",
    "        print('RECALL :{:.3f} , PRECISION : {:.3f} , F1 SCORE :{:.3f}'.format(recall, precision, f1score ))\n",
    "        print(tp+fn+fp+tn, tp+tn)\n",
    "        \n",
    "    #saver.save(sess, CHECKPOINT_PATH)"
   ]
  },
  {
   "cell_type": "markdown",
   "metadata": {},
   "source": [
    "# Test "
   ]
  },
  {
   "cell_type": "code",
   "execution_count": null,
   "metadata": {
    "scrolled": true
   },
   "outputs": [],
   "source": [
    "\n",
    "X_test = glob.glob('./data/test/*.png')\n",
    "test_image = []\n",
    "for f in X_test:\n",
    "    img = cv2.imread(f,cv2.IMREAD_GRAYSCALE)\n",
    "    m,s = cv2.meanStdDev(img)\n",
    "    std_img = (img- m)/(1.e-6 + s)\n",
    "    \n",
    "    test_image.append(std_img.reshape((64,64,1)))\n",
    "    \n",
    "print('test set' , np.shape(test_image))"
   ]
  },
  {
   "cell_type": "code",
   "execution_count": null,
   "metadata": {
    "scrolled": true
   },
   "outputs": [],
   "source": [
    "batch_size = 50\n",
    "\n",
    "with tf.Session() as sess:\n",
    "    \n",
    "    if os.path.isfile(CHECKPOINT_FILE):\n",
    "        saver.restore(sess, CHECKPOINT_PATH)\n",
    "        print('Restoring values from %s...' % CHECKPOINT_PATH)\n",
    "               \n",
    "        \n",
    "        logit_list = []\n",
    "        \n",
    "        for start in range(0,len(test_image),batch_size):\n",
    "\n",
    "            end = start + batch_size  if start + batch_size  < len(test_image)  else  len(test_image)\n",
    "\n",
    "            image_iter = test_image[start:end]        \n",
    "            test_logit = sess.run([logit], feed_dict={images: image_iter,kprob:1.0,train_mode:False})\n",
    "            logit_list.append(test_logit)\n",
    "            \n",
    "        print('----done---')"
   ]
  },
  {
   "cell_type": "code",
   "execution_count": 50,
   "metadata": {},
   "outputs": [],
   "source": [
    "pred_test = np.row_stack([ i[0] for i in logit_list])\n",
    "pred_label = np.argmax(pred_test,axis=1)"
   ]
  },
  {
   "cell_type": "code",
   "execution_count": 51,
   "metadata": {},
   "outputs": [],
   "source": [
    "test_data = {'path':X_test,'label':pred_label}\n",
    "test_df = pd.DataFrame(test_data)"
   ]
  },
  {
   "cell_type": "code",
   "execution_count": null,
   "metadata": {},
   "outputs": [],
   "source": []
  }
 ],
 "metadata": {
  "kernelspec": {
   "display_name": "Python 3",
   "language": "python",
   "name": "python3"
  },
  "language_info": {
   "codemirror_mode": {
    "name": "ipython",
    "version": 3
   },
   "file_extension": ".py",
   "mimetype": "text/x-python",
   "name": "python",
   "nbconvert_exporter": "python",
   "pygments_lexer": "ipython3",
   "version": "3.6.5"
  }
 },
 "nbformat": 4,
 "nbformat_minor": 2
}
