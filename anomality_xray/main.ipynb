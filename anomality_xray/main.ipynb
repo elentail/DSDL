{
 "cells": [
  {
   "cell_type": "code",
   "execution_count": 1,
   "metadata": {},
   "outputs": [
    {
     "name": "stderr",
     "output_type": "stream",
     "text": [
      "/opt/anaconda3/lib/python3.6/site-packages/h5py/__init__.py:36: FutureWarning: Conversion of the second argument of issubdtype from `float` to `np.floating` is deprecated. In future, it will be treated as `np.float64 == np.dtype(float).type`.\n",
      "  from ._conv import register_converters as _register_converters\n"
     ]
    }
   ],
   "source": [
    "\"\"\"\n",
    "Simple tester for the vgg19_trainable\n",
    "\"\"\"\n",
    "import numpy as np\n",
    "import tensorflow as tf\n",
    "import vgg19_trainable as vgg19\n",
    "import cv2\n",
    "import utils\n",
    "\n",
    "img1 = cv2.imread(\"./test_data/xray.png\")\n",
    "img1 = cv2.cvtColor(img1,cv2.COLOR_BGR2RGB)\n",
    "\n",
    "norm_img = cv2.normalize(img1,None,alpha=0.0, beta=1.0,norm_type=cv2.NORM_MINMAX,dtype=cv2.CV_32FC3)\n",
    "img1_true_result = np.array([1 if i == 1 else 0 for i in range(2)])  # 1-hot result for tiger\n",
    "\n",
    "batch1 = norm_img.reshape((1, 64, 64, 3))\n",
    "ylabel = img1_true_result.reshape((1,1,2))"
   ]
  },
  {
   "cell_type": "code",
   "execution_count": 2,
   "metadata": {},
   "outputs": [
    {
     "name": "stdout",
     "output_type": "stream",
     "text": [
      "14845890\n",
      "0.6932234\n",
      "0.0\n"
     ]
    }
   ],
   "source": [
    "tf.reset_default_graph()\n",
    "\n",
    "with tf.device('/cpu:0'):\n",
    "    sess = tf.Session()\n",
    "\n",
    "    images = tf.placeholder(tf.float32, [1, 64, 64, 3])\n",
    "    true_out = tf.placeholder(tf.float32, [1, 1, 2])\n",
    "    train_mode = tf.placeholder(tf.bool)\n",
    "\n",
    "    #vgg = vgg19.Vgg19('./test-save.npy')\n",
    "    vgg = vgg19.Vgg19()\n",
    "    vgg.build(images, train_mode)\n",
    "\n",
    "    \n",
    "    # print number of variables used: 143667240 variables, i.e. ideal size = 548MB\n",
    "    print(vgg.get_var_count())\n",
    "\n",
    "    # simple 1-step training\n",
    "    #cost = tf.reduce_mean(-tf.reduce_sum(ylabel * tf.log(vgg.prob), reduction_indices=1)) \n",
    "    cross_entropy = tf.nn.softmax_cross_entropy_with_logits_v2(labels=ylabel,logits=vgg.logit)\n",
    "    cross_entropy_mean = tf.reduce_mean(cross_entropy)\n",
    "    \n",
    "    train = tf.train.AdamOptimizer(0.005).minimize(cross_entropy_mean)\n",
    "      \n",
    "    sess.run(tf.global_variables_initializer())\n",
    "    error = sess.run(cross_entropy_mean, feed_dict={images: batch1, train_mode: False})\n",
    "    print(error)    \n",
    "    \n",
    "    for i in range(100):\n",
    "        sess.run(train, feed_dict={images: batch1, true_out:ylabel , train_mode: True})\n",
    "        \n",
    "    # test classification again, should have a higher probability about tiger\n",
    "    error = sess.run(cross_entropy_mean, feed_dict={images: batch1, train_mode: False})\n",
    "    print(error)\n",
    "    \n"
   ]
  },
  {
   "cell_type": "markdown",
   "metadata": {},
   "source": [
    "### input pipe_line"
   ]
  },
  {
   "cell_type": "code",
   "execution_count": null,
   "metadata": {},
   "outputs": [],
   "source": [
    "def parse_img(name)\n",
    "data = tf.data.Dataset.from_tensor_slices(flist)\n",
    "data = data.m"
   ]
  }
 ],
 "metadata": {
  "kernelspec": {
   "display_name": "Python 3",
   "language": "python",
   "name": "python3"
  },
  "language_info": {
   "codemirror_mode": {
    "name": "ipython",
    "version": 3
   },
   "file_extension": ".py",
   "mimetype": "text/x-python",
   "name": "python",
   "nbconvert_exporter": "python",
   "pygments_lexer": "ipython3",
   "version": "3.6.3"
  }
 },
 "nbformat": 4,
 "nbformat_minor": 2
}
