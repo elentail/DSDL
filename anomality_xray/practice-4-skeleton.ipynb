{
 "cells": [
  {
   "cell_type": "code",
   "execution_count": 2,
   "metadata": {},
   "outputs": [
    {
     "name": "stderr",
     "output_type": "stream",
     "text": [
      "/opt/anaconda3/lib/python3.6/site-packages/h5py/__init__.py:36: FutureWarning: Conversion of the second argument of issubdtype from `float` to `np.floating` is deprecated. In future, it will be treated as `np.float64 == np.dtype(float).type`.\n",
      "  from ._conv import register_converters as _register_converters\n"
     ]
    }
   ],
   "source": [
    "import numpy as np # linear algebra\n",
    "import pandas as pd # data processing, CSV file I/O (e.g. pd.read_csv)\n",
    "import os\n",
    "from glob import glob\n",
    "# %matplotlib inline\n",
    "import matplotlib.pyplot as plt\n",
    "from itertools import chain\n",
    "import tensorflow as tf\n",
    "import cv2"
   ]
  },
  {
   "cell_type": "code",
   "execution_count": 3,
   "metadata": {},
   "outputs": [
    {
     "name": "stdout",
     "output_type": "stream",
     "text": [
      "Scans found: 4000 , Total Headers 4000\n"
     ]
    },
    {
     "data": {
      "text/html": [
       "<div>\n",
       "<style scoped>\n",
       "    .dataframe tbody tr th:only-of-type {\n",
       "        vertical-align: middle;\n",
       "    }\n",
       "\n",
       "    .dataframe tbody tr th {\n",
       "        vertical-align: top;\n",
       "    }\n",
       "\n",
       "    .dataframe thead th {\n",
       "        text-align: right;\n",
       "    }\n",
       "</style>\n",
       "<table border=\"1\" class=\"dataframe\">\n",
       "  <thead>\n",
       "    <tr style=\"text-align: right;\">\n",
       "      <th></th>\n",
       "      <th>Image Index</th>\n",
       "      <th>Finding Labels</th>\n",
       "      <th>path</th>\n",
       "    </tr>\n",
       "  </thead>\n",
       "  <tbody>\n",
       "    <tr>\n",
       "      <th>3661</th>\n",
       "      <td>00010635_001.png</td>\n",
       "      <td>Effusion</td>\n",
       "      <td>./data/training/00010635_001.png</td>\n",
       "    </tr>\n",
       "    <tr>\n",
       "      <th>332</th>\n",
       "      <td>00010007_156.png</td>\n",
       "      <td>Effusion</td>\n",
       "      <td>./data/training/00010007_156.png</td>\n",
       "    </tr>\n",
       "    <tr>\n",
       "      <th>1923</th>\n",
       "      <td>00010563_009.png</td>\n",
       "      <td>No Finding</td>\n",
       "      <td>./data/training/00010563_009.png</td>\n",
       "    </tr>\n",
       "  </tbody>\n",
       "</table>\n",
       "</div>"
      ],
      "text/plain": [
       "           Image Index Finding Labels                              path\n",
       "3661  00010635_001.png       Effusion  ./data/training/00010635_001.png\n",
       "332   00010007_156.png       Effusion  ./data/training/00010007_156.png\n",
       "1923  00010563_009.png     No Finding  ./data/training/00010563_009.png"
      ]
     },
     "execution_count": 3,
     "metadata": {},
     "output_type": "execute_result"
    }
   ],
   "source": [
    "all_xray_df = pd.read_csv('./data/training_labels.csv')\n",
    "all_image_paths = {os.path.basename(x): x for x in \n",
    "                   glob(os.path.join( './data/training', '*.png'))}\n",
    "print('Scans found:', len(all_image_paths), ', Total Headers', all_xray_df.shape[0])\n",
    "all_xray_df['path'] = all_xray_df['Image Index'].map(all_image_paths.get)\n",
    "all_xray_df.sample(3)"
   ]
  },
  {
   "cell_type": "code",
   "execution_count": 5,
   "metadata": {},
   "outputs": [],
   "source": [
    "#all_image_paths"
   ]
  },
  {
   "cell_type": "code",
   "execution_count": 6,
   "metadata": {},
   "outputs": [
    {
     "data": {
      "image/png": "[encoded data removed]",
      "text/plain": [
       "<Figure size 864x576 with 1 Axes>"
      ]
     },
     "metadata": {},
     "output_type": "display_data"
    }
   ],
   "source": [
    "label_counts = all_xray_df['Finding Labels'].value_counts()[:2]\n",
    "fig, ax1 = plt.subplots(1,1,figsize = (12, 8))\n",
    "ax1.bar(np.arange(len(label_counts))+0.5, label_counts)\n",
    "ax1.set_xticks(np.arange(len(label_counts))+0.5)\n",
    "_ = ax1.set_xticklabels(label_counts.index, rotation = 90)"
   ]
  },
  {
   "cell_type": "code",
   "execution_count": 8,
   "metadata": {},
   "outputs": [],
   "source": [
    "all_xray_df['Label'] = all_xray_df['Finding Labels'].map(lambda x: 0 if x=='No Finding' else 1.0)\n",
    "#all_xray_df.sample(10)"
   ]
  },
  {
   "cell_type": "code",
   "execution_count": 9,
   "metadata": {},
   "outputs": [
    {
     "data": {
      "text/plain": [
       "array([1., 1., 1., ..., 0., 0., 0.])"
      ]
     },
     "execution_count": 9,
     "metadata": {},
     "output_type": "execute_result"
    }
   ],
   "source": [
    "all_xray_df['Label'].values"
   ]
  },
  {
   "cell_type": "code",
   "execution_count": 10,
   "metadata": {},
   "outputs": [
    {
     "name": "stdout",
     "output_type": "stream",
     "text": [
      "[3200.0, 800.0]\n"
     ]
    },
    {
     "data": {
      "image/png": "[encoded data removed]",
      "text/plain": [
       "<Figure size 288x288 with 1 Axes>"
      ]
     },
     "metadata": {},
     "output_type": "display_data"
    }
   ],
   "source": [
    "abnormal_count = np.sum(all_xray_df['Label'].values,0)\n",
    "normal_count = all_xray_df.shape[0]-abnormal_count\n",
    "label_counts = [normal_count, abnormal_count]\n",
    "print(label_counts)\n",
    "fig, ax1 = plt.subplots(1,1,figsize = (4, 4))\n",
    "ax1.bar(np.arange(len(label_counts))+0.5, label_counts)\n",
    "ax1.set_xticks(np.arange(len(label_counts))+0.5)\n",
    "ax1.set_xticklabels(['normal', 'abnormal'], rotation = 90)\n",
    "ax1.set_title('Adjusted Frequency of Diseases in Patient Group')\n",
    "_ = ax1.set_ylabel('counts')"
   ]
  },
  {
   "cell_type": "code",
   "execution_count": 11,
   "metadata": {},
   "outputs": [],
   "source": [
    "#all_xray_df"
   ]
  },
  {
   "cell_type": "code",
   "execution_count": 12,
   "metadata": {},
   "outputs": [],
   "source": [
    "def load_data(train_df):\n",
    "    train_filenames = train_df['path'].values\n",
    "    train_labels = np.stack(train_df['Label'].map(lambda x: 0 if x==0 else 1))\n",
    "    x_train = []\n",
    "    for filename in train_filenames:\n",
    "        img = cv2.imread(filename)\n",
    "        x_train.append(img)\n",
    "    return np.asarray(x_train), train_labels"
   ]
  },
  {
   "cell_type": "code",
   "execution_count": null,
   "metadata": {},
   "outputs": [],
   "source": [
    "import tensorflow as tf\n",
    "\n",
    "import numpy as np\n",
    "from functools import reduce\n",
    "\n",
    "VGG_MEAN = [103.939, 116.779, 123.68]\n",
    "\n",
    "\n",
    "class Vgg19:\n",
    "    \"\"\"\n",
    "    A trainable version VGG19.\n",
    "    \"\"\"\n",
    "\n",
    "    def __init__(self, vgg19_npy_path=None, trainable=True, dropout=0.5):\n",
    "        if vgg19_npy_path is not None:\n",
    "            self.data_dict = np.load(vgg19_npy_path, encoding='latin1').item()\n",
    "        else:\n",
    "            self.data_dict = None\n",
    "\n",
    "        self.var_dict = {}\n",
    "        self.trainable = trainable\n",
    "        self.dropout = dropout\n",
    "\n",
    "    def build(self, rgb, train_mode=None):\n",
    "        \"\"\"\n",
    "        load variable from npy to build the VGG\n",
    "\n",
    "        :param rgb: rgb image [batch, height, width, 3] values scaled [0, 1]\n",
    "        :param train_mode: a bool tensor, usually a placeholder: if True, dropout will be turned on\n",
    "        \"\"\"\n",
    "\n",
    "        rgb_scaled = rgb * 255.0\n",
    "\n",
    "        # Convert RGB to BGR\n",
    "        red, green, blue = tf.split(axis=3, num_or_size_splits=3, value=rgb_scaled)\n",
    "        assert red.get_shape().as_list()[1:] == [224, 224, 1]\n",
    "        assert green.get_shape().as_list()[1:] == [224, 224, 1]\n",
    "        assert blue.get_shape().as_list()[1:] == [224, 224, 1]\n",
    "        bgr = tf.concat(axis=3, values=[\n",
    "            blue - VGG_MEAN[0],\n",
    "            green - VGG_MEAN[1],\n",
    "            red - VGG_MEAN[2],\n",
    "        ])\n",
    "        assert bgr.get_shape().as_list()[1:] == [224, 224, 3]\n",
    "\n",
    "        self.conv1_1 = self.conv_layer(bgr, 3, 64, \"conv1_1\")\n",
    "        self.conv1_2 = self.conv_layer(self.conv1_1, 64, 64, \"conv1_2\")\n",
    "        self.pool1 = self.max_pool(self.conv1_2, 'pool1')\n",
    "\n",
    "        self.conv2_1 = self.conv_layer(self.pool1, 64, 128, \"conv2_1\")\n",
    "        self.conv2_2 = self.conv_layer(self.conv2_1, 128, 128, \"conv2_2\")\n",
    "        self.pool2 = self.max_pool(self.conv2_2, 'pool2')\n",
    "\n",
    "        self.conv3_1 = self.conv_layer(self.pool2, 128, 256, \"conv3_1\")\n",
    "        self.conv3_2 = self.conv_layer(self.conv3_1, 256, 256, \"conv3_2\")\n",
    "        self.conv3_3 = self.conv_layer(self.conv3_2, 256, 256, \"conv3_3\")\n",
    "        self.conv3_4 = self.conv_layer(self.conv3_3, 256, 256, \"conv3_4\")\n",
    "        self.pool3 = self.max_pool(self.conv3_4, 'pool3')\n",
    "\n",
    "        self.conv4_1 = self.conv_layer(self.pool3, 256, 512, \"conv4_1\")\n",
    "        self.conv4_2 = self.conv_layer(self.conv4_1, 512, 512, \"conv4_2\")\n",
    "        self.conv4_3 = self.conv_layer(self.conv4_2, 512, 512, \"conv4_3\")\n",
    "        self.conv4_4 = self.conv_layer(self.conv4_3, 512, 512, \"conv4_4\")\n",
    "        self.pool4 = self.max_pool(self.conv4_4, 'pool4')\n",
    "\n",
    "        self.conv5_1 = self.conv_layer(self.pool4, 512, 512, \"conv5_1\")\n",
    "        self.conv5_2 = self.conv_layer(self.conv5_1, 512, 512, \"conv5_2\")\n",
    "        self.conv5_3 = self.conv_layer(self.conv5_2, 512, 512, \"conv5_3\")\n",
    "        self.conv5_4 = self.conv_layer(self.conv5_3, 512, 512, \"conv5_4\")\n",
    "        self.pool5 = self.max_pool(self.conv5_4, 'pool5')\n",
    "\n",
    "        self.fc6 = self.fc_layer(self.pool5, 25088, 4096, \"fc6\")  # 25088 = ((224 // (2 ** 5)) ** 2) * 512\n",
    "        self.relu6 = tf.nn.relu(self.fc6)\n",
    "        if train_mode is not None:\n",
    "            self.relu6 = tf.cond(train_mode, lambda: tf.nn.dropout(self.relu6, self.dropout), lambda: self.relu6)\n",
    "        elif self.trainable:\n",
    "            self.relu6 = tf.nn.dropout(self.relu6, self.dropout)\n",
    "\n",
    "        self.fc7 = self.fc_layer(self.relu6, 4096, 4096, \"fc7\")\n",
    "        self.relu7 = tf.nn.relu(self.fc7)\n",
    "        if train_mode is not None:\n",
    "            self.relu7 = tf.cond(train_mode, lambda: tf.nn.dropout(self.relu7, self.dropout), lambda: self.relu7)\n",
    "        elif self.trainable:\n",
    "            self.relu7 = tf.nn.dropout(self.relu7, self.dropout)\n",
    "\n",
    "        self.fc8 = self.fc_layer(self.relu7, 4096, 1000, \"fc8\")\n",
    "\n",
    "        self.prob = tf.nn.softmax(self.fc8, name=\"prob\")\n",
    "\n",
    "        self.data_dict = None\n",
    "\n",
    "    def avg_pool(self, bottom, name):\n",
    "        return tf.nn.avg_pool(bottom, ksize=[1, 2, 2, 1], strides=[1, 2, 2, 1], padding='SAME', name=name)\n",
    "\n",
    "    def max_pool(self, bottom, name):\n",
    "        return tf.nn.max_pool(bottom, ksize=[1, 2, 2, 1], strides=[1, 2, 2, 1], padding='SAME', name=name)\n",
    "\n",
    "    def conv_layer(self, bottom, in_channels, out_channels, name):\n",
    "        with tf.variable_scope(name):\n",
    "            filt, conv_biases = self.get_conv_var(3, in_channels, out_channels, name)\n",
    "\n",
    "            conv = tf.nn.conv2d(bottom, filt, [1, 1, 1, 1], padding='SAME')\n",
    "            bias = tf.nn.bias_add(conv, conv_biases)\n",
    "            relu = tf.nn.relu(bias)\n",
    "\n",
    "            return relu\n",
    "\n",
    "    def fc_layer(self, bottom, in_size, out_size, name):\n",
    "        with tf.variable_scope(name):\n",
    "            weights, biases = self.get_fc_var(in_size, out_size, name)\n",
    "\n",
    "            x = tf.reshape(bottom, [-1, in_size])\n",
    "            fc = tf.nn.bias_add(tf.matmul(x, weights), biases)\n",
    "\n",
    "            return fc\n",
    "\n",
    "    def get_conv_var(self, filter_size, in_channels, out_channels, name):\n",
    "        initial_value = tf.truncated_normal([filter_size, filter_size, in_channels, out_channels], 0.0, 0.001)\n",
    "        filters = self.get_var(initial_value, name, 0, name + \"_filters\")\n",
    "\n",
    "        initial_value = tf.truncated_normal([out_channels], .0, .001)\n",
    "        biases = self.get_var(initial_value, name, 1, name + \"_biases\")\n",
    "\n",
    "        return filters, biases\n",
    "\n",
    "    def get_fc_var(self, in_size, out_size, name):\n",
    "        initial_value = tf.truncated_normal([in_size, out_size], 0.0, 0.001)\n",
    "        weights = self.get_var(initial_value, name, 0, name + \"_weights\")\n",
    "\n",
    "        initial_value = tf.truncated_normal([out_size], .0, .001)\n",
    "        biases = self.get_var(initial_value, name, 1, name + \"_biases\")\n",
    "\n",
    "        return weights, biases\n",
    "\n",
    "    def get_var(self, initial_value, name, idx, var_name):\n",
    "        if self.data_dict is not None and name in self.data_dict:\n",
    "            value = self.data_dict[name][idx]\n",
    "        else:\n",
    "            value = initial_value\n",
    "\n",
    "        if self.trainable:\n",
    "            var = tf.Variable(value, name=var_name)\n",
    "        else:\n",
    "            var = tf.constant(value, dtype=tf.float32, name=var_name)\n",
    "\n",
    "        self.var_dict[(name, idx)] = var\n",
    "\n",
    "        # print var_name, var.get_shape().as_list()\n",
    "        assert var.get_shape() == initial_value.get_shape()\n",
    "\n",
    "        return var\n",
    "\n",
    "    def save_npy(self, sess, npy_path=\"./vgg19-save.npy\"):\n",
    "        assert isinstance(sess, tf.Session)\n",
    "\n",
    "        data_dict = {}\n",
    "\n",
    "        for (name, idx), var in list(self.var_dict.items()):\n",
    "            var_out = sess.run(var)\n",
    "            if name not in data_dict:\n",
    "                data_dict[name] = {}\n",
    "            data_dict[name][idx] = var_out\n",
    "\n",
    "        np.save(npy_path, data_dict)\n",
    "        print((\"file saved\", npy_path))\n",
    "        return npy_path\n",
    "\n",
    "    def get_var_count(self):\n",
    "        count = 0\n",
    "        for v in list(self.var_dict.values()):\n",
    "            count += reduce(lambda x, y: x * y, v.get_shape().as_list())\n",
    "        return count"
   ]
  }
 ],
 "metadata": {
  "kernelspec": {
   "display_name": "Python 3",
   "language": "python",
   "name": "python3"
  },
  "language_info": {
   "codemirror_mode": {
    "name": "ipython",
    "version": 3
   },
   "file_extension": ".py",
   "mimetype": "text/x-python",
   "name": "python",
   "nbconvert_exporter": "python",
   "pygments_lexer": "ipython3",
   "version": "3.6.3"
  }
 },
 "nbformat": 4,
 "nbformat_minor": 2
}
