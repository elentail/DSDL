{
 "cells": [
  {
   "cell_type": "code",
   "execution_count": 6,
   "metadata": {},
   "outputs": [],
   "source": [
    "\n",
    "import pandas as pd\n",
    "import numpy as np\n",
    "import tensorflow as tf\n",
    "\n",
    "df = pd.read_csv('creditcard.csv')"
   ]
  },
  {
   "cell_type": "code",
   "execution_count": 7,
   "metadata": {},
   "outputs": [
    {
     "data": {
      "text/html": [
       "<div>\n",
       "<style scoped>\n",
       "    .dataframe tbody tr th:only-of-type {\n",
       "        vertical-align: middle;\n",
       "    }\n",
       "\n",
       "    .dataframe tbody tr th {\n",
       "        vertical-align: top;\n",
       "    }\n",
       "\n",
       "    .dataframe thead th {\n",
       "        text-align: right;\n",
       "    }\n",
       "</style>\n",
       "<table border=\"1\" class=\"dataframe\">\n",
       "  <thead>\n",
       "    <tr style=\"text-align: right;\">\n",
       "      <th></th>\n",
       "      <th>Time</th>\n",
       "      <th>V1</th>\n",
       "      <th>V2</th>\n",
       "      <th>V3</th>\n",
       "      <th>V4</th>\n",
       "      <th>V5</th>\n",
       "      <th>V6</th>\n",
       "      <th>V7</th>\n",
       "      <th>V8</th>\n",
       "      <th>V9</th>\n",
       "      <th>...</th>\n",
       "      <th>V21</th>\n",
       "      <th>V22</th>\n",
       "      <th>V23</th>\n",
       "      <th>V24</th>\n",
       "      <th>V25</th>\n",
       "      <th>V26</th>\n",
       "      <th>V27</th>\n",
       "      <th>V28</th>\n",
       "      <th>Amount</th>\n",
       "      <th>Class</th>\n",
       "    </tr>\n",
       "  </thead>\n",
       "  <tbody>\n",
       "    <tr>\n",
       "      <th>0</th>\n",
       "      <td>0.0</td>\n",
       "      <td>-1.359807</td>\n",
       "      <td>-0.072781</td>\n",
       "      <td>2.536347</td>\n",
       "      <td>1.378155</td>\n",
       "      <td>-0.338321</td>\n",
       "      <td>0.462388</td>\n",
       "      <td>0.239599</td>\n",
       "      <td>0.098698</td>\n",
       "      <td>0.363787</td>\n",
       "      <td>...</td>\n",
       "      <td>-0.018307</td>\n",
       "      <td>0.277838</td>\n",
       "      <td>-0.110474</td>\n",
       "      <td>0.066928</td>\n",
       "      <td>0.128539</td>\n",
       "      <td>-0.189115</td>\n",
       "      <td>0.133558</td>\n",
       "      <td>-0.021053</td>\n",
       "      <td>149.62</td>\n",
       "      <td>0</td>\n",
       "    </tr>\n",
       "    <tr>\n",
       "      <th>1</th>\n",
       "      <td>0.0</td>\n",
       "      <td>1.191857</td>\n",
       "      <td>0.266151</td>\n",
       "      <td>0.166480</td>\n",
       "      <td>0.448154</td>\n",
       "      <td>0.060018</td>\n",
       "      <td>-0.082361</td>\n",
       "      <td>-0.078803</td>\n",
       "      <td>0.085102</td>\n",
       "      <td>-0.255425</td>\n",
       "      <td>...</td>\n",
       "      <td>-0.225775</td>\n",
       "      <td>-0.638672</td>\n",
       "      <td>0.101288</td>\n",
       "      <td>-0.339846</td>\n",
       "      <td>0.167170</td>\n",
       "      <td>0.125895</td>\n",
       "      <td>-0.008983</td>\n",
       "      <td>0.014724</td>\n",
       "      <td>2.69</td>\n",
       "      <td>0</td>\n",
       "    </tr>\n",
       "    <tr>\n",
       "      <th>2</th>\n",
       "      <td>1.0</td>\n",
       "      <td>-1.358354</td>\n",
       "      <td>-1.340163</td>\n",
       "      <td>1.773209</td>\n",
       "      <td>0.379780</td>\n",
       "      <td>-0.503198</td>\n",
       "      <td>1.800499</td>\n",
       "      <td>0.791461</td>\n",
       "      <td>0.247676</td>\n",
       "      <td>-1.514654</td>\n",
       "      <td>...</td>\n",
       "      <td>0.247998</td>\n",
       "      <td>0.771679</td>\n",
       "      <td>0.909412</td>\n",
       "      <td>-0.689281</td>\n",
       "      <td>-0.327642</td>\n",
       "      <td>-0.139097</td>\n",
       "      <td>-0.055353</td>\n",
       "      <td>-0.059752</td>\n",
       "      <td>378.66</td>\n",
       "      <td>0</td>\n",
       "    </tr>\n",
       "    <tr>\n",
       "      <th>3</th>\n",
       "      <td>1.0</td>\n",
       "      <td>-0.966272</td>\n",
       "      <td>-0.185226</td>\n",
       "      <td>1.792993</td>\n",
       "      <td>-0.863291</td>\n",
       "      <td>-0.010309</td>\n",
       "      <td>1.247203</td>\n",
       "      <td>0.237609</td>\n",
       "      <td>0.377436</td>\n",
       "      <td>-1.387024</td>\n",
       "      <td>...</td>\n",
       "      <td>-0.108300</td>\n",
       "      <td>0.005274</td>\n",
       "      <td>-0.190321</td>\n",
       "      <td>-1.175575</td>\n",
       "      <td>0.647376</td>\n",
       "      <td>-0.221929</td>\n",
       "      <td>0.062723</td>\n",
       "      <td>0.061458</td>\n",
       "      <td>123.50</td>\n",
       "      <td>0</td>\n",
       "    </tr>\n",
       "    <tr>\n",
       "      <th>4</th>\n",
       "      <td>2.0</td>\n",
       "      <td>-1.158233</td>\n",
       "      <td>0.877737</td>\n",
       "      <td>1.548718</td>\n",
       "      <td>0.403034</td>\n",
       "      <td>-0.407193</td>\n",
       "      <td>0.095921</td>\n",
       "      <td>0.592941</td>\n",
       "      <td>-0.270533</td>\n",
       "      <td>0.817739</td>\n",
       "      <td>...</td>\n",
       "      <td>-0.009431</td>\n",
       "      <td>0.798278</td>\n",
       "      <td>-0.137458</td>\n",
       "      <td>0.141267</td>\n",
       "      <td>-0.206010</td>\n",
       "      <td>0.502292</td>\n",
       "      <td>0.219422</td>\n",
       "      <td>0.215153</td>\n",
       "      <td>69.99</td>\n",
       "      <td>0</td>\n",
       "    </tr>\n",
       "  </tbody>\n",
       "</table>\n",
       "<p>5 rows × 31 columns</p>\n",
       "</div>"
      ],
      "text/plain": [
       "   Time        V1        V2        V3        V4        V5        V6        V7  \\\n",
       "0   0.0 -1.359807 -0.072781  2.536347  1.378155 -0.338321  0.462388  0.239599   \n",
       "1   0.0  1.191857  0.266151  0.166480  0.448154  0.060018 -0.082361 -0.078803   \n",
       "2   1.0 -1.358354 -1.340163  1.773209  0.379780 -0.503198  1.800499  0.791461   \n",
       "3   1.0 -0.966272 -0.185226  1.792993 -0.863291 -0.010309  1.247203  0.237609   \n",
       "4   2.0 -1.158233  0.877737  1.548718  0.403034 -0.407193  0.095921  0.592941   \n",
       "\n",
       "         V8        V9  ...         V21       V22       V23       V24  \\\n",
       "0  0.098698  0.363787  ...   -0.018307  0.277838 -0.110474  0.066928   \n",
       "1  0.085102 -0.255425  ...   -0.225775 -0.638672  0.101288 -0.339846   \n",
       "2  0.247676 -1.514654  ...    0.247998  0.771679  0.909412 -0.689281   \n",
       "3  0.377436 -1.387024  ...   -0.108300  0.005274 -0.190321 -1.175575   \n",
       "4 -0.270533  0.817739  ...   -0.009431  0.798278 -0.137458  0.141267   \n",
       "\n",
       "        V25       V26       V27       V28  Amount  Class  \n",
       "0  0.128539 -0.189115  0.133558 -0.021053  149.62      0  \n",
       "1  0.167170  0.125895 -0.008983  0.014724    2.69      0  \n",
       "2 -0.327642 -0.139097 -0.055353 -0.059752  378.66      0  \n",
       "3  0.647376 -0.221929  0.062723  0.061458  123.50      0  \n",
       "4 -0.206010  0.502292  0.219422  0.215153   69.99      0  \n",
       "\n",
       "[5 rows x 31 columns]"
      ]
     },
     "execution_count": 7,
     "metadata": {},
     "output_type": "execute_result"
    }
   ],
   "source": [
    "df.head()"
   ]
  },
  {
   "cell_type": "code",
   "execution_count": 8,
   "metadata": {},
   "outputs": [],
   "source": [
    "import matplotlib.pyplot as plt\n",
    "from sklearn.preprocessing import scale\n"
   ]
  },
  {
   "cell_type": "code",
   "execution_count": 9,
   "metadata": {},
   "outputs": [],
   "source": [
    "df['Amount'] = scale(df['Amount'])"
   ]
  },
  {
   "cell_type": "code",
   "execution_count": 10,
   "metadata": {},
   "outputs": [],
   "source": [
    "df['sin_time'] = df['Time'].map(lambda x: np.sin(2*np.pi* x /24) )\n",
    "df['cos_time'] = df['Time'].map(lambda x: np.cos(2*np.pi* x /24) )\n",
    "df.drop('Time',inplace=True,axis=1)"
   ]
  },
  {
   "cell_type": "code",
   "execution_count": 11,
   "metadata": {},
   "outputs": [
    {
     "data": {
      "text/plain": [
       "[<matplotlib.lines.Line2D at 0x7fbb874e5630>]"
      ]
     },
     "execution_count": 11,
     "metadata": {},
     "output_type": "execute_result"
    },
    {
     "data": {
      "image/png": "[encoded data removed]",
      "text/plain": [
       "<Figure size 432x288 with 1 Axes>"
      ]
     },
     "metadata": {},
     "output_type": "display_data"
    }
   ],
   "source": [
    "plt.plot(df['sin_time'],df['cos_time'])"
   ]
  },
  {
   "cell_type": "code",
   "execution_count": 12,
   "metadata": {},
   "outputs": [],
   "source": [
    "fraud = df[df.Class == 1]\n",
    "normal = df[df.Class == 0]"
   ]
  },
  {
   "cell_type": "code",
   "execution_count": 13,
   "metadata": {},
   "outputs": [],
   "source": [
    "X_train = pd.concat([fraud.sample(frac=0.8, \n",
    "                                  random_state=0), \n",
    "                     normal.sample(frac=0.8,\n",
    "                                  random_state=0)], \n",
    "                    axis=0)\n",
    "X_test = df.loc[~df.index.isin(X_train.index)]"
   ]
  },
  {
   "cell_type": "code",
   "execution_count": 14,
   "metadata": {},
   "outputs": [],
   "source": [
    "from sklearn.utils import shuffle\n",
    "\n",
    "X_train = shuffle(X_train, random_state=0)\n",
    "X_test = shuffle(X_test, random_state=0)"
   ]
  },
  {
   "cell_type": "code",
   "execution_count": 15,
   "metadata": {},
   "outputs": [],
   "source": [
    "import numpy as np \n",
    "\n",
    "y_train = np.zeros((X_train.shape[0], 2),  dtype=float)\n",
    "y_train[:, 1] = X_train.Class\n",
    "y_train[:, 0] = 1 - y_train[:, 1]\n",
    "\n",
    "y_test = np.zeros((X_test.shape[0], 2), dtype=float)\n",
    "y_test[:, 1] = X_test.Class\n",
    "y_test[:, 0] = 1 - y_test[:, 1]"
   ]
  },
  {
   "cell_type": "code",
   "execution_count": 16,
   "metadata": {},
   "outputs": [],
   "source": [
    "fields = ['Class']\n",
    "X_train = X_train.drop(fields, axis=1)\n",
    "X_test = X_test.drop(fields, axis=1)"
   ]
  },
  {
   "cell_type": "code",
   "execution_count": 17,
   "metadata": {},
   "outputs": [],
   "source": [
    "split = (X_train.shape[0] * 7) // 8\n",
    "\n",
    "inputX = X_train.as_matrix()[:split]\n",
    "inputX_valid = X_train.as_matrix()[split:]\n",
    "inputX_test = X_test.as_matrix()\n",
    "\n",
    "inputY = y_train[:split]\n",
    "inputY_valid = y_train[split:]\n",
    "inputY_test = y_test"
   ]
  },
  {
   "cell_type": "code",
   "execution_count": 18,
   "metadata": {},
   "outputs": [
    {
     "data": {
      "text/plain": [
       "(199365, 31)"
      ]
     },
     "execution_count": 18,
     "metadata": {},
     "output_type": "execute_result"
    }
   ],
   "source": [
    "inputX.shape"
   ]
  },
  {
   "cell_type": "code",
   "execution_count": 20,
   "metadata": {},
   "outputs": [
    {
     "data": {
      "text/plain": [
       "(199365, 2)"
      ]
     },
     "execution_count": 20,
     "metadata": {},
     "output_type": "execute_result"
    }
   ],
   "source": [
    "inputY.shape"
   ]
  },
  {
   "cell_type": "code",
   "execution_count": 131,
   "metadata": {
    "scrolled": true
   },
   "outputs": [
    {
     "name": "stdout",
     "output_type": "stream",
     "text": [
      "******************************\n",
      "TRAIN ITER=[19] , ERROR=2.921\n",
      "**VALID ITER=[19] , ERROR=2.906\n",
      "******************************\n",
      "******************************\n",
      "TRAIN ITER=[39] , ERROR=2.278\n",
      "**VALID ITER=[39] , ERROR=2.290\n",
      "******************************\n",
      "******************************\n",
      "TRAIN ITER=[59] , ERROR=1.752\n",
      "**VALID ITER=[59] , ERROR=1.756\n",
      "******************************\n",
      "******************************\n",
      "TRAIN ITER=[79] , ERROR=1.322\n",
      "**VALID ITER=[79] , ERROR=1.319\n",
      "******************************\n",
      "******************************\n",
      "TRAIN ITER=[99] , ERROR=0.988\n",
      "**VALID ITER=[99] , ERROR=0.992\n",
      "******************************\n",
      "******************************\n",
      "TRAIN ITER=[119] , ERROR=0.738\n",
      "**VALID ITER=[119] , ERROR=0.737\n",
      "******************************\n",
      "******************************\n",
      "TRAIN ITER=[139] , ERROR=0.550\n",
      "**VALID ITER=[139] , ERROR=0.547\n",
      "******************************\n",
      "******************************\n",
      "TRAIN ITER=[159] , ERROR=0.414\n",
      "**VALID ITER=[159] , ERROR=0.415\n",
      "******************************\n",
      "******************************\n",
      "TRAIN ITER=[179] , ERROR=0.313\n",
      "**VALID ITER=[179] , ERROR=0.313\n",
      "******************************\n",
      "******************************\n",
      "TRAIN ITER=[199] , ERROR=0.236\n",
      "**VALID ITER=[199] , ERROR=0.235\n",
      "******************************\n",
      "******************************\n",
      "TRAIN ITER=[219] , ERROR=0.178\n",
      "**VALID ITER=[219] , ERROR=0.177\n",
      "******************************\n",
      "******************************\n",
      "TRAIN ITER=[239] , ERROR=0.138\n",
      "**VALID ITER=[239] , ERROR=0.139\n",
      "******************************\n",
      "******************************\n",
      "TRAIN ITER=[259] , ERROR=0.110\n",
      "**VALID ITER=[259] , ERROR=0.110\n",
      "******************************\n",
      "******************************\n",
      "TRAIN ITER=[279] , ERROR=0.091\n",
      "**VALID ITER=[279] , ERROR=0.092\n",
      "******************************\n",
      "******************************\n",
      "TRAIN ITER=[299] , ERROR=0.079\n",
      "**VALID ITER=[299] , ERROR=0.078\n",
      "******************************\n",
      "*TEST : ERROR=[0.048] , ACCURACY=0.997\n"
     ]
    }
   ],
   "source": [
    "tf.reset_default_graph()\n",
    "Xs = tf.placeholder(shape=[None,31],dtype=tf.float32)\n",
    "Ys = tf.placeholder(shape=[None, 2],dtype=tf.float32)\n",
    "\n",
    "prob = tf.placeholder_with_default(1.0, shape=())\n",
    "\n",
    "def get_model(Xs,prob):\n",
    "    w1= tf.Variable(tf.random_normal([31,60]),dtype=tf.float32)\n",
    "    b1= tf.Variable(tf.random_normal([60]),dtype=tf.float32)\n",
    "    \n",
    "    l1 = tf.nn.sigmoid( tf.matmul(Xs,w1)+b1 )\n",
    "    #tf.layers.batch_normalization()\n",
    "    \n",
    "    \n",
    "    \n",
    "    w2= tf.Variable(tf.random_normal([60,30]),dtype=tf.float32)\n",
    "    b2= tf.Variable(tf.random_normal([30]),dtype=tf.float32)\n",
    "    l2 = tf.nn.sigmoid( tf.matmul(l1,w2)+b2 )\n",
    "    \n",
    "    w3= tf.Variable(tf.random_normal([30,15]),dtype=tf.float32)\n",
    "    b3= tf.Variable(tf.random_normal([15]),dtype=tf.float32)\n",
    "    l3 = tf.nn.sigmoid( tf.matmul(l2,w3)+b3 )\n",
    "    \n",
    "    dropout = tf.nn.dropout(l3,prob)\n",
    "    w4= tf.Variable(tf.random_normal([15,2]),dtype=tf.float32)\n",
    "    b4= tf.Variable(tf.random_normal([2]),dtype=tf.float32)    \n",
    "    pred = tf.matmul(dropout,w4)+b4\n",
    "    \n",
    "    return pred\n",
    "\n",
    "def get_loss(logit,lable):\n",
    "    #cross_entropy =  tf.nn.softmax_cross_entropy_with_logits(logits=pred,labels=Ys,name='loss')\n",
    "    #cross_entropy_mean = tf.reduce_mean(cross_entropy, name='cross_entropy_mean')\n",
    "    #return cross_entropy_mean\n",
    "    \n",
    "    \"\"\"\n",
    "    # cost function Ys=1 weigth 조정 더 높여서\n",
    "    class_weight = tf.constant([0.1, 0.9] ) \n",
    "    scaled_logits = tf.multiply(logit, class_weight) # shape [batch_size, 4]\n",
    "    soft_pred = tf.nn.softmax(scaled_logits)\n",
    "    cost = tf.reduce_mean(-tf.reduce_sum(Ys * tf.log(soft_pred), reduction_indices=1)) \n",
    "    return cost\n",
    "    \"\"\"\n",
    "\n",
    "    class_weight = tf.constant([0.0001, 0.9999] ) \n",
    "    weighted_logits = tf.multiply(logit, class_weight) \n",
    "    \n",
    "    loss = tf.nn.softmax_cross_entropy_with_logits(logits=weighted_logits, labels=lable)\n",
    "    loss_mean = tf.reduce_mean(loss, name='cross_entropy_mean')\n",
    "    \n",
    "    return loss_mean\n",
    "\n",
    "def get_train(loss):\n",
    "    return tf.train.AdamOptimizer(0.001).minimize(loss)\n",
    "\n",
    "\n",
    "def get_accuracy(logits, labels):\n",
    "    predictions = tf.argmax(logits, axis=1, output_type=tf.int32)\n",
    "    lmaxindex = tf.argmax(labels, axis=1, output_type=tf.int32)\n",
    "    score = tf.reduce_sum(tf.cast(tf.equal(predictions, lmaxindex), tf.int32))\n",
    "    return score\n",
    "\n",
    "pred = get_model(Xs,prob)\n",
    "loss = get_loss(pred,Ys)\n",
    "train_op = get_train(loss)\n",
    "accuracy = get_accuracy(pred,Ys)\n",
    "\n",
    "\n",
    "error_val = []\n",
    "\n",
    "with tf.Session() as sess:\n",
    "    tf.global_variables_initializer().run()\n",
    "\n",
    "    for i in range(300):\n",
    "        sess.run(train_op,feed_dict={Xs:inputX,Ys:inputY})\n",
    "        if (i+1) % 20 == 0:\n",
    "            error = sess.run(loss,feed_dict={Xs:inputX,Ys:inputY,prob:0.8})\n",
    "            valid_error = sess.run(loss,feed_dict={Xs:inputX_valid,Ys:inputY_valid,prob:0.8})\n",
    "            print('*'*30)\n",
    "            print('TRAIN ITER=[{}] , ERROR={:.3f}'.format(i,error))\n",
    "            print('**VALID ITER=[{}] , ERROR={:.3f}'.format(i,valid_error))\n",
    "            print('*'*30)\n",
    "            \n",
    "    \n",
    "    p,test_error,accuracy = sess.run([pred,loss,accuracy],feed_dict={Xs:inputX_test,Ys:inputY_test,prob:1.0})\n",
    "    print('*TEST : ERROR=[{:.3f}] , ACCURACY={:.3f}'.format(test_error,accuracy/len(inputY_test)))\n",
    "    "
   ]
  },
  {
   "cell_type": "code",
   "execution_count": 132,
   "metadata": {},
   "outputs": [
    {
     "data": {
      "text/plain": [
       "(98, 56863)"
      ]
     },
     "execution_count": 132,
     "metadata": {},
     "output_type": "execute_result"
    }
   ],
   "source": [
    "np.sum(inputY_test.argmax(axis=1) ==1) , np.sum(inputY_test.argmax(axis=1) ==0)"
   ]
  },
  {
   "cell_type": "code",
   "execution_count": 133,
   "metadata": {},
   "outputs": [
    {
     "data": {
      "text/plain": [
       "(117, 56844)"
      ]
     },
     "execution_count": 133,
     "metadata": {},
     "output_type": "execute_result"
    }
   ],
   "source": [
    "np.sum(p.argmax(axis=1) ==1) , np.sum(p.argmax(axis=1) ==0)"
   ]
  },
  {
   "cell_type": "code",
   "execution_count": null,
   "metadata": {},
   "outputs": [],
   "source": []
  }
 ],
 "metadata": {
  "kernelspec": {
   "display_name": "Python 3",
   "language": "python",
   "name": "python3"
  },
  "language_info": {
   "codemirror_mode": {
    "name": "ipython",
    "version": 3
   },
   "file_extension": ".py",
   "mimetype": "text/x-python",
   "name": "python",
   "nbconvert_exporter": "python",
   "pygments_lexer": "ipython3",
   "version": "3.6.3"
  }
 },
 "nbformat": 4,
 "nbformat_minor": 2
}
