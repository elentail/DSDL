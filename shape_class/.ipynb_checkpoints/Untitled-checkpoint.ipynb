{
 "cells": [
  {
   "cell_type": "markdown",
   "metadata": {},
   "source": [
    "# library import "
   ]
  },
  {
   "cell_type": "code",
   "execution_count": 1,
   "metadata": {},
   "outputs": [
    {
     "name": "stderr",
     "output_type": "stream",
     "text": [
      "/opt/anaconda3/lib/python3.6/site-packages/h5py/__init__.py:36: FutureWarning: Conversion of the second argument of issubdtype from `float` to `np.floating` is deprecated. In future, it will be treated as `np.float64 == np.dtype(float).type`.\n",
      "  from ._conv import register_converters as _register_converters\n"
     ]
    }
   ],
   "source": [
    "import cv2\n",
    "import os,re,sys\n",
    "import numpy as np\n",
    "import tensorflow as tf\n",
    "import tensorflow.contrib.eager as tfe\n",
    "\n",
    "from glob import glob\n",
    "import matplotlib.pyplot as plt"
   ]
  },
  {
   "cell_type": "markdown",
   "metadata": {},
   "source": [
    "# tensorflow eager mode enable "
   ]
  },
  {
   "cell_type": "code",
   "execution_count": 2,
   "metadata": {},
   "outputs": [],
   "source": [
    "tfe.enable_eager_execution()"
   ]
  },
  {
   "cell_type": "code",
   "execution_count": 3,
   "metadata": {
    "collapsed": true
   },
   "outputs": [],
   "source": [
    "flist = glob('./train_set/*.jpg')"
   ]
  },
  {
   "cell_type": "code",
   "execution_count": 4,
   "metadata": {
    "collapsed": true
   },
   "outputs": [],
   "source": [
    "def get_img(f):\n",
    "    img_file = tf.read_file(f)\n",
    "    img = tf.cast( tf.image.decode_jpeg(img_file,channels=1), dtype=tf.float32)\n",
    "    tokens = tf.string_split([f],delimiter='/').values\n",
    "    label_num = tf.string_to_number(tf.substr(tokens[-1],1,1))\n",
    "    label_int = tf.cast(label_num,tf.int32)\n",
    "    label_onehot = tf.one_hot(label_int,4)\n",
    "    return (img,label_onehot)"
   ]
  },
  {
   "cell_type": "code",
   "execution_count": 5,
   "metadata": {
    "collapsed": true
   },
   "outputs": [],
   "source": [
    "data = tf.data.Dataset.from_tensor_slices(flist)\n",
    "data = data.map(get_img).repeat(20).batch(2)\n",
    "batch = data.make_one_shot_iterator().get_next()"
   ]
  },
  {
   "cell_type": "code",
   "execution_count": 6,
   "metadata": {},
   "outputs": [],
   "source": [
    "sample_img = cv2.imread(flist[0],cv2.IMREAD_GRAYSCALE)"
   ]
  },
  {
   "cell_type": "code",
   "execution_count": 7,
   "metadata": {},
   "outputs": [
    {
     "data": {
      "text/plain": [
       "<matplotlib.image.AxesImage at 0x7f3e480dc4a8>"
      ]
     },
     "execution_count": 7,
     "metadata": {},
     "output_type": "execute_result"
    }
   ],
   "source": [
    "plt.imshow(sample_img,cmap='gray')"
   ]
  },
  {
   "cell_type": "code",
   "execution_count": 8,
   "metadata": {},
   "outputs": [
    {
     "data": {
      "image/png": "[encoded data removed]",
      "text/plain": [
       "<Figure size 432x288 with 1 Axes>"
      ]
     },
     "metadata": {},
     "output_type": "display_data"
    }
   ],
   "source": [
    "plt.show()"
   ]
  },
  {
   "cell_type": "code",
   "execution_count": 32,
   "metadata": {},
   "outputs": [],
   "source": [
    "\n",
    "tf.reset_default_graph()\n",
    "\n",
    "class simple_builder(object):\n",
    "    \n",
    "    train_mode = True\n",
    "    init1d = tf.contrib.layers.xavier_initializer\n",
    "    init2d = tf.contrib.layers.xavier_initializer_conv2d\n",
    "    def __init__(self):\n",
    "        pass\n",
    "    \n",
    "    def build(self,pairs, train_mode=True, kprob=0.8):\n",
    "        \n",
    "        datas , labels  = pairs\n",
    "        \n",
    "        # intput 128,128,1\n",
    "        \n",
    "        conv1 = self.conv_layer(datas, 16, 'conv1', 3, train_mode,kprob )\n",
    "        conv2 = self.conv_layer(conv1, 16, 'conv2' )\n",
    "\n",
    "        # pooling 64,64, ,16\n",
    "        pool1 = tf.nn.max_pool(conv2,ksize=[1,2,2,1], strides=[1,2,2,1] , padding='SAME')\n",
    "\n",
    "        conv3 = self.conv_layer(pool1, 64, 'conv3', 3, train_mode,kprob )\n",
    "        conv4 = self.conv_layer(conv3, 64, 'conv4', 3, train_mode,kprob )\n",
    "        \n",
    "        # pooling 32,32,64\n",
    "        pool2 = tf.nn.max_pool(conv4,ksize=[1,2,2,1], strides=[1,2,2,1] , padding='SAME')\n",
    "        \n",
    "        conv5 = self.conv_layer(pool2, 64, 'conv5', 3, train_mode,kprob )\n",
    "        \n",
    "        # pooling 16,16,64\n",
    "        pool3 = tf.nn.max_pool(conv4,ksize=[1,2,2,1], strides=[1,2,2,1] , padding='SAME')\n",
    "        \n",
    "        conv6 = self.conv_layer(pool2, 64, 'conv6', 3, train_mode,kprob )\n",
    "        \n",
    "        # pooling 8,8,64\n",
    "        pool4 = tf.nn.max_pool(conv6,ksize=[1,2,2,1], strides=[1,2,2,1] , padding='SAME')\n",
    "        pool4 = tf.reshape(pool4,[-1, 8*8*64])\n",
    "        \n",
    "        fc1 = self.fc_layer(pool4, 512, 'fc1',kprob)\n",
    "        fc2 = self.fc_layer(pool4, 64, 'fc1',kprob)\n",
    "        logits = self.fc_layer(pool4, 5, 'fc1',kprob,True)\n",
    "        \n",
    "        return logits\n",
    "        \n",
    "        \n",
    "    \n",
    "    \n",
    "    def conv_layer(self,datas ,filters, name , ksize=3, train_mode=True, kprob=0.8):\n",
    "        \n",
    "        with tf.variable_scope(name) :\n",
    "            nformat = name + '_{}'\n",
    "            shapes = datas.get_shape().as_list()  \n",
    "            k_shape = [ksize, ksize, shapes[3], filters]\n",
    "\n",
    "            weight  = tf.get_variable(nformat.format('w1'),shape=k_shape,initializer=self.init2d())\n",
    "            layer = tf.nn.conv2d(datas , weight, strides=[1,1,1,1],padding='SAME')\n",
    "            layer = tf.layers.batch_normalization(layer ,training=train_mode)\n",
    "\n",
    "            layer  = tf.nn.relu(layer)\n",
    "            layer  = tf.nn.dropout(layer,keep_prob=kprob)\n",
    "        \n",
    "        return layer\n",
    "    \n",
    "    def fc_layer(self, datas, osize, name, kprob=0.8, is_logits=False):\n",
    "        \n",
    "        shapes = datas.get_shape().as_list()  \n",
    "        \n",
    "        weight = tf.get_variable(name+'w1',shape=[shapes[-1],osize], initializer=self.init1d())\n",
    "        bias = tf.get_variable(name+'b1',shape=[osize], initializer=self.init1d())\n",
    "\n",
    "        layer = tf.nn.bias_add( tf.matmul(datas, weight) , bias )\n",
    "        \n",
    "        if( not is_logits):\n",
    "            layer = tf.nn.relu(layer)\n",
    "            layer = tf.nn.dropout(layer, kprob)\n",
    "            \n",
    "        return layer    \n",
    "\n",
    "       \n",
    "    def loss_score(self, logits, labels):\n",
    "        cross_entropy = tf.nn.softmax_cross_entropy_with_logits_v2(logits=logits,labels=labels)\n",
    "        cross_mean = tf.reduce_mean(cross_entropy,axis=1)\n",
    "        return cross_mean\n",
    "    \n",
    "    def train_operator(self,loss,lr=0.001):\n",
    "        update_ops = tf.get_collection(tf.GraphKeys.UPDATE_OPS)\n",
    "        with tf.control_dependencies(update_ops):\n",
    "            train_op = tf.train.AdamOptimizer(lr).minimize(loss)\n",
    "        return train_op\n",
    "        \n",
    "    def accuracy_socre(self, logits,labels):\n",
    "        correct_prediction = tf.equal( tf.argmax(logits,axis=1), tf.argmax(labels,1), axis=1 )\n",
    "        accuracy = tf.reduce_mean(tf.cast(correct_prediction, tf.float32))\n",
    "        return accuracy\n",
    "        \n",
    "        "
   ]
  },
  {
   "cell_type": "code",
   "execution_count": 33,
   "metadata": {
    "collapsed": true
   },
   "outputs": [],
   "source": [
    "builder = simple_builder()"
   ]
  },
  {
   "cell_type": "code",
   "execution_count": 34,
   "metadata": {},
   "outputs": [],
   "source": [
    "model = builder.build(batch)"
   ]
  },
  {
   "cell_type": "code",
   "execution_count": null,
   "metadata": {
    "collapsed": true
   },
   "outputs": [],
   "source": [
    "loss_score = builder.loss_score(b)"
   ]
  }
 ],
 "metadata": {
  "kernelspec": {
   "display_name": "Python 3",
   "language": "python",
   "name": "python3"
  },
  "language_info": {
   "codemirror_mode": {
    "name": "ipython",
    "version": 3
   },
   "file_extension": ".py",
   "mimetype": "text/x-python",
   "name": "python",
   "nbconvert_exporter": "python",
   "pygments_lexer": "ipython3",
   "version": "3.6.5"
  }
 },
 "nbformat": 4,
 "nbformat_minor": 2
}
